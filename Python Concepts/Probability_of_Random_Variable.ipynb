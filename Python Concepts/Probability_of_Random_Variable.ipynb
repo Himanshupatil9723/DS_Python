{
  "nbformat": 4,
  "nbformat_minor": 0,
  "metadata": {
    "colab": {
      "provenance": []
    },
    "kernelspec": {
      "name": "python3",
      "display_name": "Python 3"
    },
    "language_info": {
      "name": "python"
    }
  },
  "cells": [
    {
      "cell_type": "markdown",
      "source": [
        "# ***Cumulative Distribution Function ***"
      ],
      "metadata": {
        "id": "8AH3osNKTVoM"
      }
    },
    {
      "cell_type": "code",
      "execution_count": 15,
      "metadata": {
        "id": "yGpblLhJAD9I"
      },
      "outputs": [],
      "source": [
        "#Scipy library for statistics\n",
        "from scipy import stats"
      ]
    },
    {
      "cell_type": "code",
      "source": [
        "#stats.norm.cdf(value,mean,Standard Deviation) : - Calculate probability for left side curve area\n",
        "#stats stabds for statistics\n",
        "#norm stands for normal distribution\n",
        "#cdf stands for Cumulative Distribution Function\n",
        "stats.norm.cdf(70,60,10)"
      ],
      "metadata": {
        "colab": {
          "base_uri": "https://localhost:8080/"
        },
        "id": "K7hoh515Rvo3",
        "outputId": "d4161d6d-8fbf-462f-8afd-206d60ba8fdf"
      },
      "execution_count": 16,
      "outputs": [
        {
          "output_type": "execute_result",
          "data": {
            "text/plain": [
              "0.8413447460685429"
            ]
          },
          "metadata": {},
          "execution_count": 16
        }
      ]
    },
    {
      "cell_type": "code",
      "source": [
        "# 1-stats.norm.cdf(value,mean,Standard Deviation):- Calculate probability for right side curve area\n",
        "1-stats.norm.cdf(70,60,10)"
      ],
      "metadata": {
        "colab": {
          "base_uri": "https://localhost:8080/"
        },
        "id": "_T6s55bNR4B_",
        "outputId": "1bdbb87d-583a-48fe-a499-f8721a55d3e7"
      },
      "execution_count": 17,
      "outputs": [
        {
          "output_type": "execute_result",
          "data": {
            "text/plain": [
              "0.15865525393145707"
            ]
          },
          "metadata": {},
          "execution_count": 17
        }
      ]
    },
    {
      "cell_type": "code",
      "source": [
        "stats.norm.cdf(680,711,29)"
      ],
      "metadata": {
        "colab": {
          "base_uri": "https://localhost:8080/"
        },
        "id": "ASnNfxogSdMQ",
        "outputId": "1faaee15-1999-435f-f556-04b45f1031f6"
      },
      "execution_count": 18,
      "outputs": [
        {
          "output_type": "execute_result",
          "data": {
            "text/plain": [
              "0.14254260383881612"
            ]
          },
          "metadata": {},
          "execution_count": 18
        }
      ]
    },
    {
      "cell_type": "code",
      "source": [
        "# To find probability for range of value\n",
        "\n",
        "stats.norm.cdf(740,711,29) - stats.norm.cdf(697,711,29)"
      ],
      "metadata": {
        "colab": {
          "base_uri": "https://localhost:8080/"
        },
        "id": "BTgHBAaySxC3",
        "outputId": "a8ae0fdb-e8a4-4dee-da4e-ceab0302d5ad"
      },
      "execution_count": 19,
      "outputs": [
        {
          "output_type": "execute_result",
          "data": {
            "text/plain": [
              "0.5267111786415019"
            ]
          },
          "metadata": {},
          "execution_count": 19
        }
      ]
    },
    {
      "cell_type": "markdown",
      "source": [
        "# ***Point Percentage Function***"
      ],
      "metadata": {
        "id": "oCHdyTFqVTwD"
      }
    },
    {
      "cell_type": "code",
      "source": [
        "#stats.norm.ppf(probability,mean,Standard Deviation) : - It will show value for that probability is given\n",
        "#stats stabds for statistics\n",
        "#norm stands for normal distribution\n",
        "#ppf stands for Point Percentage Function\n",
        "stats.norm.ppf(0.85,700,25)"
      ],
      "metadata": {
        "colab": {
          "base_uri": "https://localhost:8080/"
        },
        "id": "qGSoCJbWS-7D",
        "outputId": "3586f1bb-1fe4-4f48-e137-ff9c584196a5"
      },
      "execution_count": 20,
      "outputs": [
        {
          "output_type": "execute_result",
          "data": {
            "text/plain": [
              "725.9108347373448"
            ]
          },
          "metadata": {},
          "execution_count": 20
        }
      ]
    },
    {
      "cell_type": "markdown",
      "source": [
        "# ***Probability Questions***\n",
        "\n",
        "According to the survey, the average weight of child is 70 pounds in US with Standard Deviation 10 pounds\n",
        "\n",
        "  *What is the probability that the weight is less than 50 pounds?\n",
        "\n",
        "  *What is the probability that the weight is in range 50 to 90 pounds?\n",
        "\n",
        "  *What is the probability that the weight is greater than 100 pounds?\n",
        "\n",
        "  *What is the probability that the weight is between 55 to 70 pounds?\n",
        "\n",
        "  *What is the probability that the weight is equal to 75 pounds?\n",
        "\n"
      ],
      "metadata": {
        "id": "UEgmA4GkWUny"
      }
    },
    {
      "cell_type": "code",
      "source": [
        "stats.norm.cdf(50,70,10)\n",
        "#Probability for weight is less than 50 pounds = 0.02275"
      ],
      "metadata": {
        "colab": {
          "base_uri": "https://localhost:8080/"
        },
        "id": "Z9L-GZMPWNCL",
        "outputId": "16cb3259-9a63-4b35-ae63-e3b111f48118"
      },
      "execution_count": 21,
      "outputs": [
        {
          "output_type": "execute_result",
          "data": {
            "text/plain": [
              "0.022750131948179195"
            ]
          },
          "metadata": {},
          "execution_count": 21
        }
      ]
    },
    {
      "cell_type": "code",
      "source": [
        "stats.norm.cdf(90,70,10)- stats.norm.cdf(50,70,10)\n",
        "#probability for weight is in range 50 to 90 pounds = 0.95449"
      ],
      "metadata": {
        "colab": {
          "base_uri": "https://localhost:8080/"
        },
        "id": "kOzKm6X5XzTT",
        "outputId": "7a7df710-39f0-4729-a15b-f270add23996"
      },
      "execution_count": 22,
      "outputs": [
        {
          "output_type": "execute_result",
          "data": {
            "text/plain": [
              "0.9544997361036416"
            ]
          },
          "metadata": {},
          "execution_count": 22
        }
      ]
    },
    {
      "cell_type": "code",
      "source": [
        "1- stats.norm.cdf(100,70,10)\n",
        "#probability for weight is greater than 100 pounds = 0.00134"
      ],
      "metadata": {
        "colab": {
          "base_uri": "https://localhost:8080/"
        },
        "id": "jBhFZ-JjYDDa",
        "outputId": "5c70f292-6fa2-4276-dea8-80f6094828d5"
      },
      "execution_count": 23,
      "outputs": [
        {
          "output_type": "execute_result",
          "data": {
            "text/plain": [
              "0.0013498980316301035"
            ]
          },
          "metadata": {},
          "execution_count": 23
        }
      ]
    },
    {
      "cell_type": "code",
      "source": [
        "stats.norm.cdf(70,70,10)- stats.norm.cdf(55,70,10)\n",
        "#probability that the weight is between 55 to 70 pounds = 0.43319"
      ],
      "metadata": {
        "colab": {
          "base_uri": "https://localhost:8080/"
        },
        "id": "1JL-acAlYXDp",
        "outputId": "e4f74f42-802d-4749-9436-225bed5f670b"
      },
      "execution_count": 24,
      "outputs": [
        {
          "output_type": "execute_result",
          "data": {
            "text/plain": [
              "0.4331927987311419"
            ]
          },
          "metadata": {},
          "execution_count": 24
        }
      ]
    },
    {
      "cell_type": "code",
      "source": [
        "#probability for weight is equal to 75 pounds = 0\n",
        "#because probability associated with any single value of the random variable is always zero."
      ],
      "metadata": {
        "id": "AgbIZGCvYr4t"
      },
      "execution_count": 25,
      "outputs": []
    }
  ]
}