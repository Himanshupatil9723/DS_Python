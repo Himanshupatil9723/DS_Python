{
  "nbformat": 4,
  "nbformat_minor": 0,
  "metadata": {
    "colab": {
      "provenance": []
    },
    "kernelspec": {
      "name": "python3",
      "display_name": "Python 3"
    },
    "language_info": {
      "name": "python"
    }
  },
  "cells": [
    {
      "cell_type": "code",
      "execution_count": 19,
      "metadata": {
        "id": "nzgInQa6MhYw"
      },
      "outputs": [],
      "source": [
        "import numpy as np"
      ]
    },
    {
      "cell_type": "code",
      "source": [
        "#array creation\n",
        "#one dimentional array\n",
        "a =np.array([10,12,52,56,53])\n",
        "a"
      ],
      "metadata": {
        "colab": {
          "base_uri": "https://localhost:8080/"
        },
        "id": "rrJybc10Q2br",
        "outputId": "e77be74b-25a6-42ae-daab-b13c8e5ff619"
      },
      "execution_count": 20,
      "outputs": [
        {
          "output_type": "execute_result",
          "data": {
            "text/plain": [
              "array([10, 12, 52, 56, 53])"
            ]
          },
          "metadata": {},
          "execution_count": 20
        }
      ]
    },
    {
      "cell_type": "code",
      "source": [
        "type(a)"
      ],
      "metadata": {
        "colab": {
          "base_uri": "https://localhost:8080/"
        },
        "id": "lZDBxFesx_O8",
        "outputId": "e9e03592-8e39-4594-a76f-e86a65c811fe"
      },
      "execution_count": 21,
      "outputs": [
        {
          "output_type": "execute_result",
          "data": {
            "text/plain": [
              "numpy.ndarray"
            ]
          },
          "metadata": {},
          "execution_count": 21
        }
      ]
    },
    {
      "cell_type": "code",
      "source": [
        "a.ndim"
      ],
      "metadata": {
        "colab": {
          "base_uri": "https://localhost:8080/"
        },
        "id": "Gq5YaSiqQuRf",
        "outputId": "96541243-73b8-450c-cae3-74bb1ef761b7"
      },
      "execution_count": 22,
      "outputs": [
        {
          "output_type": "execute_result",
          "data": {
            "text/plain": [
              "1"
            ]
          },
          "metadata": {},
          "execution_count": 22
        }
      ]
    },
    {
      "cell_type": "code",
      "source": [
        "#zero dimentional array\n",
        "b= np.array(10)\n",
        "b"
      ],
      "metadata": {
        "colab": {
          "base_uri": "https://localhost:8080/"
        },
        "id": "2zjf5x33ycAp",
        "outputId": "7c5ff02e-02ef-431d-b0bb-ddb07d8832e2"
      },
      "execution_count": 23,
      "outputs": [
        {
          "output_type": "execute_result",
          "data": {
            "text/plain": [
              "array(10)"
            ]
          },
          "metadata": {},
          "execution_count": 23
        }
      ]
    },
    {
      "cell_type": "code",
      "source": [
        "b.ndim"
      ],
      "metadata": {
        "colab": {
          "base_uri": "https://localhost:8080/"
        },
        "id": "4xn2NAHjyh8s",
        "outputId": "34713720-9054-42f5-a55e-e3e3126da993"
      },
      "execution_count": 24,
      "outputs": [
        {
          "output_type": "execute_result",
          "data": {
            "text/plain": [
              "0"
            ]
          },
          "metadata": {},
          "execution_count": 24
        }
      ]
    },
    {
      "cell_type": "code",
      "source": [
        "#two dimentional array\n",
        "c = np.array([[25,30,96,69]])\n",
        "c.ndim"
      ],
      "metadata": {
        "colab": {
          "base_uri": "https://localhost:8080/"
        },
        "id": "7oynBiY-ysG4",
        "outputId": "61e702f8-33d2-41b3-8cc1-2cec18f03778"
      },
      "execution_count": 25,
      "outputs": [
        {
          "output_type": "execute_result",
          "data": {
            "text/plain": [
              "2"
            ]
          },
          "metadata": {},
          "execution_count": 25
        }
      ]
    },
    {
      "cell_type": "code",
      "source": [
        "#three dimentional array\n",
        "d=np.array([[[130,125,69,67]]])\n",
        "d.ndim"
      ],
      "metadata": {
        "colab": {
          "base_uri": "https://localhost:8080/"
        },
        "id": "1g8xkRYKzNxU",
        "outputId": "58010b69-0818-4fa9-adc5-837d5ea62b7b"
      },
      "execution_count": 26,
      "outputs": [
        {
          "output_type": "execute_result",
          "data": {
            "text/plain": [
              "3"
            ]
          },
          "metadata": {},
          "execution_count": 26
        }
      ]
    },
    {
      "cell_type": "code",
      "source": [
        "#change the data type of the array elements.\n",
        "x = np.array([10,10.5,'himu',7])\n",
        "x"
      ],
      "metadata": {
        "colab": {
          "base_uri": "https://localhost:8080/"
        },
        "id": "39srtltVzeAc",
        "outputId": "4a05493f-4e72-434d-c3f2-37efb8032f43"
      },
      "execution_count": 27,
      "outputs": [
        {
          "output_type": "execute_result",
          "data": {
            "text/plain": [
              "array(['10', '10.5', 'himu', '7'], dtype='<U32')"
            ]
          },
          "metadata": {},
          "execution_count": 27
        }
      ]
    },
    {
      "cell_type": "code",
      "source": [
        "type(x)"
      ],
      "metadata": {
        "colab": {
          "base_uri": "https://localhost:8080/"
        },
        "id": "N-cKIP-u0Zdu",
        "outputId": "9dfef1e0-7545-42c1-ff7e-e36dc67e0752"
      },
      "execution_count": 28,
      "outputs": [
        {
          "output_type": "execute_result",
          "data": {
            "text/plain": [
              "numpy.ndarray"
            ]
          },
          "metadata": {},
          "execution_count": 28
        }
      ]
    },
    {
      "cell_type": "code",
      "source": [
        "y = np.array([10,10.5,7],dtype = 'float')\n",
        "y"
      ],
      "metadata": {
        "colab": {
          "base_uri": "https://localhost:8080/"
        },
        "id": "j9xUtqPD0d7G",
        "outputId": "82d3976d-22c5-4a41-a9b2-e99ef2f07116"
      },
      "execution_count": 31,
      "outputs": [
        {
          "output_type": "execute_result",
          "data": {
            "text/plain": [
              "array([10. , 10.5,  7. ])"
            ]
          },
          "metadata": {},
          "execution_count": 31
        }
      ]
    },
    {
      "cell_type": "code",
      "source": [
        "y.dtype"
      ],
      "metadata": {
        "colab": {
          "base_uri": "https://localhost:8080/"
        },
        "id": "26X-QME40mQ-",
        "outputId": "50727861-d8eb-4308-d0a8-ff35c7779f84"
      },
      "execution_count": 34,
      "outputs": [
        {
          "output_type": "execute_result",
          "data": {
            "text/plain": [
              "dtype('float64')"
            ]
          },
          "metadata": {},
          "execution_count": 34
        }
      ]
    },
    {
      "cell_type": "code",
      "source": [
        "#arange function to create an array\n",
        "\n",
        "l = np.arange(20,75)\n",
        "l"
      ],
      "metadata": {
        "colab": {
          "base_uri": "https://localhost:8080/"
        },
        "id": "YRqok1d3AYGj",
        "outputId": "67947eb6-5198-49b3-af6f-5f84fbb01f31"
      },
      "execution_count": 37,
      "outputs": [
        {
          "output_type": "execute_result",
          "data": {
            "text/plain": [
              "array([20, 21, 22, 23, 24, 25, 26, 27, 28, 29, 30, 31, 32, 33, 34, 35, 36,\n",
              "       37, 38, 39, 40, 41, 42, 43, 44, 45, 46, 47, 48, 49, 50, 51, 52, 53,\n",
              "       54, 55, 56, 57, 58, 59, 60, 61, 62, 63, 64, 65, 66, 67, 68, 69, 70,\n",
              "       71, 72, 73, 74])"
            ]
          },
          "metadata": {},
          "execution_count": 37
        }
      ]
    },
    {
      "cell_type": "code",
      "source": [
        "#linspace function to create an array\n",
        "s = np.linspace(7,83,25,retstep = True)\n",
        "s"
      ],
      "metadata": {
        "colab": {
          "base_uri": "https://localhost:8080/"
        },
        "id": "P1VmNwP7AlU1",
        "outputId": "7a4f0ab0-efa0-4896-8e86-db6a335bbfee"
      },
      "execution_count": 42,
      "outputs": [
        {
          "output_type": "execute_result",
          "data": {
            "text/plain": [
              "(array([ 7.        , 10.16666667, 13.33333333, 16.5       , 19.66666667,\n",
              "        22.83333333, 26.        , 29.16666667, 32.33333333, 35.5       ,\n",
              "        38.66666667, 41.83333333, 45.        , 48.16666667, 51.33333333,\n",
              "        54.5       , 57.66666667, 60.83333333, 64.        , 67.16666667,\n",
              "        70.33333333, 73.5       , 76.66666667, 79.83333333, 83.        ]),\n",
              " 3.1666666666666665)"
            ]
          },
          "metadata": {},
          "execution_count": 42
        }
      ]
    },
    {
      "cell_type": "code",
      "source": [
        "#zeros function to create an array\n",
        "j= np.zeros([9,9])\n",
        "j"
      ],
      "metadata": {
        "colab": {
          "base_uri": "https://localhost:8080/"
        },
        "id": "tEIAnVX3B9yy",
        "outputId": "e5e4f262-bc2a-4036-da08-71429dc8691b"
      },
      "execution_count": 49,
      "outputs": [
        {
          "output_type": "execute_result",
          "data": {
            "text/plain": [
              "array([[0., 0., 0., 0., 0., 0., 0., 0., 0.],\n",
              "       [0., 0., 0., 0., 0., 0., 0., 0., 0.],\n",
              "       [0., 0., 0., 0., 0., 0., 0., 0., 0.],\n",
              "       [0., 0., 0., 0., 0., 0., 0., 0., 0.],\n",
              "       [0., 0., 0., 0., 0., 0., 0., 0., 0.],\n",
              "       [0., 0., 0., 0., 0., 0., 0., 0., 0.],\n",
              "       [0., 0., 0., 0., 0., 0., 0., 0., 0.],\n",
              "       [0., 0., 0., 0., 0., 0., 0., 0., 0.],\n",
              "       [0., 0., 0., 0., 0., 0., 0., 0., 0.]])"
            ]
          },
          "metadata": {},
          "execution_count": 49
        }
      ]
    },
    {
      "cell_type": "code",
      "source": [
        "#ones function to create an array\n",
        "l = np.ones([10,10])\n",
        "l"
      ],
      "metadata": {
        "colab": {
          "base_uri": "https://localhost:8080/"
        },
        "id": "xFkrygdsBD-e",
        "outputId": "89218d5e-e9c2-4e5d-abd7-bfa74451f961"
      },
      "execution_count": 51,
      "outputs": [
        {
          "output_type": "execute_result",
          "data": {
            "text/plain": [
              "array([[1., 1., 1., 1., 1., 1., 1., 1., 1., 1.],\n",
              "       [1., 1., 1., 1., 1., 1., 1., 1., 1., 1.],\n",
              "       [1., 1., 1., 1., 1., 1., 1., 1., 1., 1.],\n",
              "       [1., 1., 1., 1., 1., 1., 1., 1., 1., 1.],\n",
              "       [1., 1., 1., 1., 1., 1., 1., 1., 1., 1.],\n",
              "       [1., 1., 1., 1., 1., 1., 1., 1., 1., 1.],\n",
              "       [1., 1., 1., 1., 1., 1., 1., 1., 1., 1.],\n",
              "       [1., 1., 1., 1., 1., 1., 1., 1., 1., 1.],\n",
              "       [1., 1., 1., 1., 1., 1., 1., 1., 1., 1.],\n",
              "       [1., 1., 1., 1., 1., 1., 1., 1., 1., 1.]])"
            ]
          },
          "metadata": {},
          "execution_count": 51
        }
      ]
    },
    {
      "cell_type": "code",
      "source": [
        "# function to create an array\n",
        "k = np.random.rand(7,5)\n",
        "k"
      ],
      "metadata": {
        "colab": {
          "base_uri": "https://localhost:8080/"
        },
        "id": "feq4lmZFDYP9",
        "outputId": "f687e3bb-ea03-41b0-f06e-da6828dc36af"
      },
      "execution_count": 53,
      "outputs": [
        {
          "output_type": "execute_result",
          "data": {
            "text/plain": [
              "array([[0.65575501, 0.48172788, 0.74969965, 0.10520197, 0.51493855],\n",
              "       [0.6059331 , 0.84578254, 0.05565811, 0.86944234, 0.12982992],\n",
              "       [0.09468005, 0.32994709, 0.45012566, 0.66963547, 0.20237787],\n",
              "       [0.02937894, 0.69364423, 0.2103179 , 0.09763449, 0.73125481],\n",
              "       [0.02784094, 0.0988217 , 0.43850575, 0.08368802, 0.88821796],\n",
              "       [0.80114241, 0.78700696, 0.17130638, 0.10684442, 0.61489374],\n",
              "       [0.08580701, 0.57625813, 0.46129783, 0.96249451, 0.67036684]])"
            ]
          },
          "metadata": {},
          "execution_count": 53
        }
      ]
    },
    {
      "cell_type": "code",
      "source": [
        "  n = np.random.random_sample(10)\n",
        "  n  "
      ],
      "metadata": {
        "colab": {
          "base_uri": "https://localhost:8080/"
        },
        "id": "QYaLEQH9Exnk",
        "outputId": "2962a470-5f40-4d66-c4b1-2421a5461c04"
      },
      "execution_count": 54,
      "outputs": [
        {
          "output_type": "execute_result",
          "data": {
            "text/plain": [
              "array([0.07922207, 0.35973787, 0.17952334, 0.44006075, 0.92703035,\n",
              "       0.09534829, 0.12514758, 0.71940342, 0.73430536, 0.42669315])"
            ]
          },
          "metadata": {},
          "execution_count": 54
        }
      ]
    },
    {
      "cell_type": "code",
      "source": [
        "#slicing and indexing of an array\n",
        "w = np.array([[2,6,8],[7,4,9]])\n",
        "w"
      ],
      "metadata": {
        "colab": {
          "base_uri": "https://localhost:8080/"
        },
        "id": "D1S3JcXYFsUx",
        "outputId": "b2be703c-94f9-40a9-e3c2-b544f02045ff"
      },
      "execution_count": 55,
      "outputs": [
        {
          "output_type": "execute_result",
          "data": {
            "text/plain": [
              "array([[2, 6, 8],\n",
              "       [7, 4, 9]])"
            ]
          },
          "metadata": {},
          "execution_count": 55
        }
      ]
    },
    {
      "cell_type": "code",
      "source": [
        "w[1,2]"
      ],
      "metadata": {
        "colab": {
          "base_uri": "https://localhost:8080/"
        },
        "id": "qIiP5oA4HPUZ",
        "outputId": "1a2f6c0e-8ce8-4f4f-f6ec-00ca461c7c38"
      },
      "execution_count": 57,
      "outputs": [
        {
          "output_type": "execute_result",
          "data": {
            "text/plain": [
              "9"
            ]
          },
          "metadata": {},
          "execution_count": 57
        }
      ]
    },
    {
      "cell_type": "code",
      "source": [
        "w[[1,1],[1,2]]"
      ],
      "metadata": {
        "colab": {
          "base_uri": "https://localhost:8080/"
        },
        "id": "OLaMHJvWHhSF",
        "outputId": "aa5dad39-0c56-4200-82cd-43bca185de91"
      },
      "execution_count": 58,
      "outputs": [
        {
          "output_type": "execute_result",
          "data": {
            "text/plain": [
              "array([4, 9])"
            ]
          },
          "metadata": {},
          "execution_count": 58
        }
      ]
    },
    {
      "cell_type": "code",
      "source": [
        "w[:,2]"
      ],
      "metadata": {
        "colab": {
          "base_uri": "https://localhost:8080/"
        },
        "id": "FcHGdZv8HrE9",
        "outputId": "8d18fd95-0491-4564-8274-710099fc0ac4"
      },
      "execution_count": 59,
      "outputs": [
        {
          "output_type": "execute_result",
          "data": {
            "text/plain": [
              "array([8, 9])"
            ]
          },
          "metadata": {},
          "execution_count": 59
        }
      ]
    },
    {
      "cell_type": "code",
      "source": [
        "w[0,:]"
      ],
      "metadata": {
        "colab": {
          "base_uri": "https://localhost:8080/"
        },
        "id": "Dq-OpFc3HwPp",
        "outputId": "e2999263-0d12-4815-8483-8b0dd10e0989"
      },
      "execution_count": 61,
      "outputs": [
        {
          "output_type": "execute_result",
          "data": {
            "text/plain": [
              "array([2, 6, 8])"
            ]
          },
          "metadata": {},
          "execution_count": 61
        }
      ]
    },
    {
      "cell_type": "code",
      "source": [
        "w[0,0:2]"
      ],
      "metadata": {
        "colab": {
          "base_uri": "https://localhost:8080/"
        },
        "id": "s98s8yS5H1Ch",
        "outputId": "8f74924d-59db-41bb-c8c3-eccbd266697d"
      },
      "execution_count": 63,
      "outputs": [
        {
          "output_type": "execute_result",
          "data": {
            "text/plain": [
              "array([2, 6])"
            ]
          },
          "metadata": {},
          "execution_count": 63
        }
      ]
    },
    {
      "cell_type": "code",
      "source": [
        "w[0:1,:]"
      ],
      "metadata": {
        "colab": {
          "base_uri": "https://localhost:8080/"
        },
        "id": "XWFc5zbyIG0b",
        "outputId": "ed91d6af-69ce-41c3-9a49-10906b11b782"
      },
      "execution_count": 64,
      "outputs": [
        {
          "output_type": "execute_result",
          "data": {
            "text/plain": [
              "array([[2, 6, 8]])"
            ]
          },
          "metadata": {},
          "execution_count": 64
        }
      ]
    },
    {
      "cell_type": "code",
      "source": [
        "w[0:,1:]"
      ],
      "metadata": {
        "colab": {
          "base_uri": "https://localhost:8080/"
        },
        "id": "c-YNfAkoH81w",
        "outputId": "722118c5-8b60-41cc-bc69-2fe8a1a4370d"
      },
      "execution_count": 65,
      "outputs": [
        {
          "output_type": "execute_result",
          "data": {
            "text/plain": [
              "array([[6, 8],\n",
              "       [4, 9]])"
            ]
          },
          "metadata": {},
          "execution_count": 65
        }
      ]
    },
    {
      "cell_type": "code",
      "source": [
        "#reshaping an array\n",
        "\n",
        "g= np.random.rand(5,6)\n",
        "g"
      ],
      "metadata": {
        "colab": {
          "base_uri": "https://localhost:8080/"
        },
        "id": "WHSgLySpHzLJ",
        "outputId": "aa0c0d98-3aeb-4e6c-eeb6-aa28602c2147"
      },
      "execution_count": 66,
      "outputs": [
        {
          "output_type": "execute_result",
          "data": {
            "text/plain": [
              "array([[0.96794087, 0.67241619, 0.17944582, 0.43775681, 0.75988733,\n",
              "        0.75512554],\n",
              "       [0.90415327, 0.87123769, 0.75836223, 0.56285383, 0.45161711,\n",
              "        0.71313635],\n",
              "       [0.78932093, 0.08742265, 0.47692364, 0.68705877, 0.70247582,\n",
              "        0.345532  ],\n",
              "       [0.99888667, 0.02672931, 0.42276863, 0.93414742, 0.89570067,\n",
              "        0.8788253 ],\n",
              "       [0.39669457, 0.45131831, 0.39165602, 0.75480578, 0.92414897,\n",
              "        0.04539901]])"
            ]
          },
          "metadata": {},
          "execution_count": 66
        }
      ]
    },
    {
      "cell_type": "code",
      "source": [
        "g.reshape(-1,3)"
      ],
      "metadata": {
        "colab": {
          "base_uri": "https://localhost:8080/"
        },
        "id": "8W7491RGMwDZ",
        "outputId": "00d3a826-0fe2-40d8-cb00-689c95d38a34"
      },
      "execution_count": 69,
      "outputs": [
        {
          "output_type": "execute_result",
          "data": {
            "text/plain": [
              "array([[0.96794087, 0.67241619, 0.17944582],\n",
              "       [0.43775681, 0.75988733, 0.75512554],\n",
              "       [0.90415327, 0.87123769, 0.75836223],\n",
              "       [0.56285383, 0.45161711, 0.71313635],\n",
              "       [0.78932093, 0.08742265, 0.47692364],\n",
              "       [0.68705877, 0.70247582, 0.345532  ],\n",
              "       [0.99888667, 0.02672931, 0.42276863],\n",
              "       [0.93414742, 0.89570067, 0.8788253 ],\n",
              "       [0.39669457, 0.45131831, 0.39165602],\n",
              "       [0.75480578, 0.92414897, 0.04539901]])"
            ]
          },
          "metadata": {},
          "execution_count": 69
        }
      ]
    },
    {
      "cell_type": "code",
      "source": [
        "g.reshape(6,5)"
      ],
      "metadata": {
        "colab": {
          "base_uri": "https://localhost:8080/"
        },
        "id": "IdtTzDUtNGdt",
        "outputId": "6ddfc6b5-a7a8-4fc9-d674-efa4e159ba0e"
      },
      "execution_count": 75,
      "outputs": [
        {
          "output_type": "execute_result",
          "data": {
            "text/plain": [
              "array([[0.96794087, 0.67241619, 0.17944582, 0.43775681, 0.75988733],\n",
              "       [0.75512554, 0.90415327, 0.87123769, 0.75836223, 0.56285383],\n",
              "       [0.45161711, 0.71313635, 0.78932093, 0.08742265, 0.47692364],\n",
              "       [0.68705877, 0.70247582, 0.345532  , 0.99888667, 0.02672931],\n",
              "       [0.42276863, 0.93414742, 0.89570067, 0.8788253 , 0.39669457],\n",
              "       [0.45131831, 0.39165602, 0.75480578, 0.92414897, 0.04539901]])"
            ]
          },
          "metadata": {},
          "execution_count": 75
        }
      ]
    },
    {
      "cell_type": "code",
      "source": [
        "#aggregate functions\n",
        "#min,max,sum,mean,median,average,product,SD,variance,percentile etc\n",
        "a"
      ],
      "metadata": {
        "colab": {
          "base_uri": "https://localhost:8080/"
        },
        "id": "qrxqorWGNtmA",
        "outputId": "d5d8fa0d-71f2-4d2f-ff1c-0878d8826ef2"
      },
      "execution_count": 76,
      "outputs": [
        {
          "output_type": "execute_result",
          "data": {
            "text/plain": [
              "array([10, 12, 52, 56, 53])"
            ]
          },
          "metadata": {},
          "execution_count": 76
        }
      ]
    },
    {
      "cell_type": "code",
      "source": [
        "a.sum()"
      ],
      "metadata": {
        "colab": {
          "base_uri": "https://localhost:8080/"
        },
        "id": "kISH1CF1OfYQ",
        "outputId": "1dc16aa6-bc4b-43a5-b97b-e92e69507496"
      },
      "execution_count": 79,
      "outputs": [
        {
          "output_type": "execute_result",
          "data": {
            "text/plain": [
              "183"
            ]
          },
          "metadata": {},
          "execution_count": 79
        }
      ]
    },
    {
      "cell_type": "code",
      "source": [
        "a.mean()"
      ],
      "metadata": {
        "colab": {
          "base_uri": "https://localhost:8080/"
        },
        "id": "Y790vC2MOiC9",
        "outputId": "f03476d9-dbd9-49ce-e568-c6ac015f67d5"
      },
      "execution_count": 81,
      "outputs": [
        {
          "output_type": "execute_result",
          "data": {
            "text/plain": [
              "36.6"
            ]
          },
          "metadata": {},
          "execution_count": 81
        }
      ]
    },
    {
      "cell_type": "code",
      "source": [
        "a.min()"
      ],
      "metadata": {
        "colab": {
          "base_uri": "https://localhost:8080/"
        },
        "id": "0Jhz66jHOjBA",
        "outputId": "6a3e4279-973d-4372-96b8-50eeae2e49e3"
      },
      "execution_count": 82,
      "outputs": [
        {
          "output_type": "execute_result",
          "data": {
            "text/plain": [
              "10"
            ]
          },
          "metadata": {},
          "execution_count": 82
        }
      ]
    },
    {
      "cell_type": "code",
      "source": [
        "a.max()"
      ],
      "metadata": {
        "colab": {
          "base_uri": "https://localhost:8080/"
        },
        "id": "MR6HU1MmOvy8",
        "outputId": "e7f7c243-33d7-4df9-e110-7ded400ce67c"
      },
      "execution_count": 83,
      "outputs": [
        {
          "output_type": "execute_result",
          "data": {
            "text/plain": [
              "56"
            ]
          },
          "metadata": {},
          "execution_count": 83
        }
      ]
    },
    {
      "cell_type": "code",
      "source": [
        "a.std()"
      ],
      "metadata": {
        "colab": {
          "base_uri": "https://localhost:8080/"
        },
        "id": "ZRXA_NpVOxbI",
        "outputId": "1da6e45a-0581-4b09-e804-7602d3f69aa0"
      },
      "execution_count": 86,
      "outputs": [
        {
          "output_type": "execute_result",
          "data": {
            "text/plain": [
              "20.95328136593407"
            ]
          },
          "metadata": {},
          "execution_count": 86
        }
      ]
    },
    {
      "cell_type": "code",
      "source": [
        "a.var()"
      ],
      "metadata": {
        "colab": {
          "base_uri": "https://localhost:8080/"
        },
        "id": "1LHzYs9wO4vo",
        "outputId": "7709c268-53f5-4e8b-85a8-45aa559348f5"
      },
      "execution_count": 87,
      "outputs": [
        {
          "output_type": "execute_result",
          "data": {
            "text/plain": [
              "439.03999999999996"
            ]
          },
          "metadata": {},
          "execution_count": 87
        }
      ]
    }
  ]
}