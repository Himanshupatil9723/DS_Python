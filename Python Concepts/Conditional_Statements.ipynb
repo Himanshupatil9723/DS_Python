{
  "nbformat": 4,
  "nbformat_minor": 0,
  "metadata": {
    "colab": {
      "provenance": []
    },
    "kernelspec": {
      "name": "python3",
      "display_name": "Python 3"
    },
    "language_info": {
      "name": "python"
    }
  },
  "cells": [
    {
      "cell_type": "markdown",
      "source": [
        "***User Input***"
      ],
      "metadata": {
        "id": "yst5X1rnPg6B"
      }
    },
    {
      "cell_type": "code",
      "execution_count": 15,
      "metadata": {
        "id": "v8IY3XaXO6RM"
      },
      "outputs": [],
      "source": [
        "a= 'Himu'"
      ]
    },
    {
      "cell_type": "code",
      "source": [
        "a = input()"
      ],
      "metadata": {
        "colab": {
          "base_uri": "https://localhost:8080/"
        },
        "id": "Yc_gKDbzPCud",
        "outputId": "0b3ad1b3-2f51-4cbe-a16d-e6df246ccbc2"
      },
      "execution_count": 16,
      "outputs": [
        {
          "name": "stdout",
          "output_type": "stream",
          "text": [
            "Himu\n"
          ]
        }
      ]
    },
    {
      "cell_type": "code",
      "source": [
        "a"
      ],
      "metadata": {
        "colab": {
          "base_uri": "https://localhost:8080/",
          "height": 35
        },
        "id": "RvVCzbqEPHzz",
        "outputId": "85867065-ce1d-42e4-e4bb-c981a4d25286"
      },
      "execution_count": 17,
      "outputs": [
        {
          "output_type": "execute_result",
          "data": {
            "text/plain": [
              "'Himu'"
            ],
            "application/vnd.google.colaboratory.intrinsic+json": {
              "type": "string"
            }
          },
          "metadata": {},
          "execution_count": 17
        }
      ]
    },
    {
      "cell_type": "code",
      "source": [
        "age = input('enter your age')"
      ],
      "metadata": {
        "colab": {
          "base_uri": "https://localhost:8080/"
        },
        "id": "DoUFCQ1MPKlp",
        "outputId": "cba349bf-21d9-432f-fabd-d4f720401ee3"
      },
      "execution_count": 18,
      "outputs": [
        {
          "name": "stdout",
          "output_type": "stream",
          "text": [
            "enter your age23\n"
          ]
        }
      ]
    },
    {
      "cell_type": "code",
      "source": [
        "age"
      ],
      "metadata": {
        "colab": {
          "base_uri": "https://localhost:8080/",
          "height": 35
        },
        "id": "GePuW1ZBPaly",
        "outputId": "ae207ae0-82b5-4335-cb9f-9e193a3766fc"
      },
      "execution_count": 19,
      "outputs": [
        {
          "output_type": "execute_result",
          "data": {
            "text/plain": [
              "'23'"
            ],
            "application/vnd.google.colaboratory.intrinsic+json": {
              "type": "string"
            }
          },
          "metadata": {},
          "execution_count": 19
        }
      ]
    },
    {
      "cell_type": "code",
      "source": [
        "name = input(\"Player Name;\")\n",
        "\n",
        "if name== \"Himu patil\":\n",
        "  print(\"Opener\")\n",
        "else:\n",
        "  print(\"Finisher\")"
      ],
      "metadata": {
        "colab": {
          "base_uri": "https://localhost:8080/"
        },
        "id": "4I1wveEkPbhl",
        "outputId": "e8845378-6143-4367-b4fa-43d6b28f1b47"
      },
      "execution_count": 20,
      "outputs": [
        {
          "output_type": "stream",
          "name": "stdout",
          "text": [
            "Player Name;Himu patil\n",
            "Opener\n"
          ]
        }
      ]
    },
    {
      "cell_type": "code",
      "source": [
        "runs= int(input(\"Enter runs:\"))\n",
        "\n",
        "if runs>= 100:\n",
        "  print(\"Century\")\n",
        "else:\n",
        "  print(100-runs, \"runs required to complete century\")\n"
      ],
      "metadata": {
        "colab": {
          "base_uri": "https://localhost:8080/"
        },
        "id": "y1th5gHqTCWy",
        "outputId": "b7d6be07-00ae-4135-bc51-1635b8703756"
      },
      "execution_count": 25,
      "outputs": [
        {
          "output_type": "stream",
          "name": "stdout",
          "text": [
            "Enter runs:125\n",
            "Century\n"
          ]
        }
      ]
    },
    {
      "cell_type": "code",
      "source": [
        "number = int(input(\"value:\"))\n",
        "\n",
        "if 0 <number<10:\n",
        "  print(\"Single digit\")\n",
        "elif 9<number<100:\n",
        "  print(\"Double digit\")\n",
        "elif 99<number<1000:\n",
        "  print(\"Three digit\")\n",
        "else:\n",
        "  print(\"Wrong Input\")"
      ],
      "metadata": {
        "colab": {
          "base_uri": "https://localhost:8080/"
        },
        "id": "zwi-W-FcWgdA",
        "outputId": "3415e355-0512-48a6-8aa0-26c68b52386d"
      },
      "execution_count": 32,
      "outputs": [
        {
          "output_type": "stream",
          "name": "stdout",
          "text": [
            "value:55\n",
            "Double digit\n"
          ]
        }
      ]
    },
    {
      "cell_type": "code",
      "source": [
        "user_number = int(input(\"value:\"))\n",
        "\n",
        "if user_number == 99:\n",
        "  print('Right')\n",
        "else:\n",
        "  print('Wrong')"
      ],
      "metadata": {
        "colab": {
          "base_uri": "https://localhost:8080/"
        },
        "id": "akqOq-fTWVuw",
        "outputId": "f9637e90-06cd-4fb9-f9da-1494028da3d1"
      },
      "execution_count": 36,
      "outputs": [
        {
          "output_type": "stream",
          "name": "stdout",
          "text": [
            "value:125\n",
            "Wrong\n"
          ]
        }
      ]
    },
    {
      "cell_type": "code",
      "source": [
        "i = 1\n",
        "while i<10:\n",
        "  print(i)\n",
        "  i=i+1"
      ],
      "metadata": {
        "colab": {
          "base_uri": "https://localhost:8080/"
        },
        "id": "8CQf4EE3WJzf",
        "outputId": "45dc916b-4ca7-4aea-bfb1-0baa47f4955e"
      },
      "execution_count": 38,
      "outputs": [
        {
          "output_type": "stream",
          "name": "stdout",
          "text": [
            "1\n",
            "2\n",
            "3\n",
            "4\n",
            "5\n",
            "6\n",
            "7\n",
            "8\n",
            "9\n"
          ]
        }
      ]
    },
    {
      "cell_type": "code",
      "source": [
        "himu=7\n",
        "while himu<100:\n",
        "  print(himu)\n",
        "  himu= himu +7"
      ],
      "metadata": {
        "colab": {
          "base_uri": "https://localhost:8080/"
        },
        "id": "E_snz-oWTAad",
        "outputId": "3d714235-1477-490d-93b5-104f63222b1e"
      },
      "execution_count": 41,
      "outputs": [
        {
          "output_type": "stream",
          "name": "stdout",
          "text": [
            "7\n",
            "14\n",
            "21\n",
            "28\n",
            "35\n",
            "42\n",
            "49\n",
            "56\n",
            "63\n",
            "70\n",
            "77\n",
            "84\n",
            "91\n",
            "98\n"
          ]
        }
      ]
    },
    {
      "cell_type": "code",
      "source": [
        "h =range(1, 20)\n",
        "h"
      ],
      "metadata": {
        "colab": {
          "base_uri": "https://localhost:8080/"
        },
        "id": "E7d3VLCYS7jN",
        "outputId": "1d781b67-5c61-41fa-e7e0-aed0e4f4330b"
      },
      "execution_count": 56,
      "outputs": [
        {
          "output_type": "execute_result",
          "data": {
            "text/plain": [
              "range(1, 20)"
            ]
          },
          "metadata": {},
          "execution_count": 56
        }
      ]
    },
    {
      "cell_type": "code",
      "source": [
        "h=list(h)\n",
        "h"
      ],
      "metadata": {
        "colab": {
          "base_uri": "https://localhost:8080/"
        },
        "id": "L7TW1fijmkHT",
        "outputId": "4a87ddf4-2370-4a71-809a-651fa575a733"
      },
      "execution_count": 57,
      "outputs": [
        {
          "output_type": "execute_result",
          "data": {
            "text/plain": [
              "[1, 2, 3, 4, 5, 6, 7, 8, 9, 10, 11, 12, 13, 14, 15, 16, 17, 18, 19]"
            ]
          },
          "metadata": {},
          "execution_count": 57
        }
      ]
    },
    {
      "cell_type": "code",
      "source": [
        "for i in range(1,20,3):\n",
        "  print(i)"
      ],
      "metadata": {
        "colab": {
          "base_uri": "https://localhost:8080/"
        },
        "id": "MVRy9a7YS9us",
        "outputId": "741eb197-baf5-4b28-8534-48cd3d9a9675"
      },
      "execution_count": 58,
      "outputs": [
        {
          "output_type": "stream",
          "name": "stdout",
          "text": [
            "1\n",
            "4\n",
            "7\n",
            "10\n",
            "13\n",
            "16\n",
            "19\n"
          ]
        }
      ]
    },
    {
      "cell_type": "code",
      "source": [
        "companies = ['amazon','flipkart','snapdeal']\n",
        "\n",
        "companies"
      ],
      "metadata": {
        "colab": {
          "base_uri": "https://localhost:8080/"
        },
        "id": "kpfRpIgcmucv",
        "outputId": "8448b816-ddbb-403d-bd3c-345ed9081340"
      },
      "execution_count": 67,
      "outputs": [
        {
          "output_type": "execute_result",
          "data": {
            "text/plain": [
              "['amazon', 'flipkart', 'snapdeal']"
            ]
          },
          "metadata": {},
          "execution_count": 67
        }
      ]
    },
    {
      "cell_type": "code",
      "source": [
        "for i in companies:\n",
        "  print(\"www.\"+i+\".com\")"
      ],
      "metadata": {
        "colab": {
          "base_uri": "https://localhost:8080/"
        },
        "id": "xEVWwyyho231",
        "outputId": "a3cf48cf-5280-4d90-8571-c1bdaafeffdd"
      },
      "execution_count": 71,
      "outputs": [
        {
          "output_type": "stream",
          "name": "stdout",
          "text": [
            "www.amazon.com\n",
            "www.flipkart.com\n",
            "www.snapdeal.com\n"
          ]
        }
      ]
    },
    {
      "cell_type": "code",
      "source": [
        "names = ['mayur','himu','tanvi', 'aachal','ankita','aman','anamika']\n",
        "names"
      ],
      "metadata": {
        "colab": {
          "base_uri": "https://localhost:8080/"
        },
        "id": "m0X6EM6VruTb",
        "outputId": "0299b780-cab9-415e-a78a-14b0175c10e9"
      },
      "execution_count": 72,
      "outputs": [
        {
          "output_type": "execute_result",
          "data": {
            "text/plain": [
              "['mayur', 'himu', 'tanvi', 'aachal', 'ankita', 'aman', 'anamika']"
            ]
          },
          "metadata": {},
          "execution_count": 72
        }
      ]
    },
    {
      "cell_type": "code",
      "source": [
        "for i in names:\n",
        "  if i.startswith('a'):\n",
        "    print(i)"
      ],
      "metadata": {
        "colab": {
          "base_uri": "https://localhost:8080/"
        },
        "id": "0H0XE_abr9QW",
        "outputId": "fba103a5-8e71-4d70-b9c5-c65ccffd5dc6"
      },
      "execution_count": 82,
      "outputs": [
        {
          "output_type": "stream",
          "name": "stdout",
          "text": [
            "aachal\n",
            "ankita\n",
            "aman\n",
            "anamika\n"
          ]
        }
      ]
    },
    {
      "cell_type": "code",
      "source": [
        "numbers = [ 22,30,35,53,59]\n",
        "numbers"
      ],
      "metadata": {
        "colab": {
          "base_uri": "https://localhost:8080/"
        },
        "id": "hnwVbNdTuX7X",
        "outputId": "2abb4211-a0f8-48d9-fa59-ecdd36b4df67"
      },
      "execution_count": 84,
      "outputs": [
        {
          "output_type": "execute_result",
          "data": {
            "text/plain": [
              "[22, 30, 35, 53, 59]"
            ]
          },
          "metadata": {},
          "execution_count": 84
        }
      ]
    },
    {
      "cell_type": "code",
      "source": [
        "for i in numbers:\n",
        "  print(i+5)"
      ],
      "metadata": {
        "colab": {
          "base_uri": "https://localhost:8080/"
        },
        "id": "lDgtB5FTuerS",
        "outputId": "2cfccf71-1eb9-4363-bb13-ba537361e869"
      },
      "execution_count": 87,
      "outputs": [
        {
          "output_type": "stream",
          "name": "stdout",
          "text": [
            "27\n",
            "35\n",
            "40\n",
            "58\n",
            "64\n"
          ]
        }
      ]
    },
    {
      "cell_type": "code",
      "source": [
        "marks = [ 75,65,62,85,89,91,92]\n",
        "marks"
      ],
      "metadata": {
        "colab": {
          "base_uri": "https://localhost:8080/"
        },
        "id": "daasSX5MvQ7x",
        "outputId": "cb6e3de2-8f16-4ab5-e77c-ed083f27733c"
      },
      "execution_count": 88,
      "outputs": [
        {
          "output_type": "execute_result",
          "data": {
            "text/plain": [
              "[75, 65, 62, 85, 89, 91, 92]"
            ]
          },
          "metadata": {},
          "execution_count": 88
        }
      ]
    },
    {
      "cell_type": "code",
      "source": [
        "for i in marks:\n",
        "  if i>75:\n",
        "    print(i)"
      ],
      "metadata": {
        "colab": {
          "base_uri": "https://localhost:8080/"
        },
        "id": "tHnCzg8XvWG9",
        "outputId": "5957f9bb-61d0-4b54-8c3e-ad802438160e"
      },
      "execution_count": 89,
      "outputs": [
        {
          "output_type": "stream",
          "name": "stdout",
          "text": [
            "85\n",
            "89\n",
            "91\n",
            "92\n"
          ]
        }
      ]
    }
  ]
}