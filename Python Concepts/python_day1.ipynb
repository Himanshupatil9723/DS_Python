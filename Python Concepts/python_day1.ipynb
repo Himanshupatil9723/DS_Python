{
  "nbformat": 4,
  "nbformat_minor": 0,
  "metadata": {
    "colab": {
      "provenance": [],
      "authorship_tag": "ABX9TyNXYbE7DKU0wmvzLbHe0Isj",
      "include_colab_link": true
    },
    "kernelspec": {
      "name": "python3",
      "display_name": "Python 3"
    },
    "language_info": {
      "name": "python"
    }
  },
  "cells": [
    {
      "cell_type": "markdown",
      "metadata": {
        "id": "view-in-github",
        "colab_type": "text"
      },
      "source": [
        "<a href=\"https://colab.research.google.com/github/Himanshupatil9723/DS_Python/blob/main/python_day1.ipynb\" target=\"_parent\"><img src=\"https://colab.research.google.com/assets/colab-badge.svg\" alt=\"Open In Colab\"/></a>"
      ]
    },
    {
      "cell_type": "code",
      "execution_count": null,
      "metadata": {
        "colab": {
          "base_uri": "https://localhost:8080/"
        },
        "id": "lxb3u9pjc1wF",
        "outputId": "80186770-3456-4480-a33b-6f33206d3fda"
      },
      "outputs": [
        {
          "output_type": "execute_result",
          "data": {
            "text/plain": [
              "40"
            ]
          },
          "metadata": {},
          "execution_count": 181
        }
      ],
      "source": [
        "# day-1 started\n",
        "5*8"
      ]
    },
    {
      "cell_type": "code",
      "source": [
        "print(\"Welcome to ExcelR!\")               "
      ],
      "metadata": {
        "colab": {
          "base_uri": "https://localhost:8080/"
        },
        "id": "qOflhGkod347",
        "outputId": "f04ea464-68b3-4448-ddab-d59158922c11"
      },
      "execution_count": null,
      "outputs": [
        {
          "output_type": "stream",
          "name": "stdout",
          "text": [
            "Welcome to ExcelR!\n"
          ]
        }
      ]
    },
    {
      "cell_type": "code",
      "source": [
        "120/12*2-4"
      ],
      "metadata": {
        "colab": {
          "base_uri": "https://localhost:8080/"
        },
        "id": "y4ISChTEfnWs",
        "outputId": "21b17651-9219-42eb-c83b-0d113c9800ee"
      },
      "execution_count": null,
      "outputs": [
        {
          "output_type": "execute_result",
          "data": {
            "text/plain": [
              "16.0"
            ]
          },
          "metadata": {},
          "execution_count": 183
        }
      ]
    },
    {
      "cell_type": "code",
      "source": [
        "(5-2)*10"
      ],
      "metadata": {
        "colab": {
          "base_uri": "https://localhost:8080/"
        },
        "id": "_s7GZjVAf2cL",
        "outputId": "0ef91eb6-6e23-4fcf-9f21-b2c474dd2595"
      },
      "execution_count": null,
      "outputs": [
        {
          "output_type": "execute_result",
          "data": {
            "text/plain": [
              "30"
            ]
          },
          "metadata": {},
          "execution_count": 184
        }
      ]
    },
    {
      "cell_type": "code",
      "source": [
        "5-2*10"
      ],
      "metadata": {
        "colab": {
          "base_uri": "https://localhost:8080/"
        },
        "id": "PzpLVoRPf9ZL",
        "outputId": "46af4092-b4f6-4918-894b-31f090030048"
      },
      "execution_count": null,
      "outputs": [
        {
          "output_type": "execute_result",
          "data": {
            "text/plain": [
              "-15"
            ]
          },
          "metadata": {},
          "execution_count": 185
        }
      ]
    },
    {
      "cell_type": "code",
      "source": [
        "marks=80\n",
        "marks"
      ],
      "metadata": {
        "colab": {
          "base_uri": "https://localhost:8080/"
        },
        "id": "KpuZsd8EgAVQ",
        "outputId": "5aa2444f-5344-44bb-cba1-f7852cc4c908"
      },
      "execution_count": null,
      "outputs": [
        {
          "output_type": "execute_result",
          "data": {
            "text/plain": [
              "80"
            ]
          },
          "metadata": {},
          "execution_count": 186
        }
      ]
    },
    {
      "cell_type": "code",
      "source": [
        "type(marks)"
      ],
      "metadata": {
        "colab": {
          "base_uri": "https://localhost:8080/"
        },
        "id": "6RFp53JIgnLz",
        "outputId": "14232d5b-4efd-4e92-bd0e-04e5002be354"
      },
      "execution_count": null,
      "outputs": [
        {
          "output_type": "execute_result",
          "data": {
            "text/plain": [
              "int"
            ]
          },
          "metadata": {},
          "execution_count": 187
        }
      ]
    },
    {
      "cell_type": "code",
      "source": [
        "5**4"
      ],
      "metadata": {
        "colab": {
          "base_uri": "https://localhost:8080/"
        },
        "id": "_XeSwCgEgySL",
        "outputId": "11ddabdb-dc58-4d81-96e6-ccc9ec0aec83"
      },
      "execution_count": null,
      "outputs": [
        {
          "output_type": "execute_result",
          "data": {
            "text/plain": [
              "625"
            ]
          },
          "metadata": {},
          "execution_count": 188
        }
      ]
    },
    {
      "cell_type": "code",
      "source": [
        "price = 50.5\n",
        "price\n",
        "type(price)"
      ],
      "metadata": {
        "colab": {
          "base_uri": "https://localhost:8080/"
        },
        "id": "JyXkDGJvg4pP",
        "outputId": "21bf8308-1ab3-4167-aa7a-187f00d1f606"
      },
      "execution_count": null,
      "outputs": [
        {
          "output_type": "execute_result",
          "data": {
            "text/plain": [
              "float"
            ]
          },
          "metadata": {},
          "execution_count": 189
        }
      ]
    },
    {
      "cell_type": "code",
      "source": [
        "price = 50.5\n",
        "print(price)\n",
        "type(price)"
      ],
      "metadata": {
        "colab": {
          "base_uri": "https://localhost:8080/"
        },
        "id": "7pGvU8hJg9os",
        "outputId": "9d05ffdf-4ca0-40de-e1ca-fcaab7780340"
      },
      "execution_count": null,
      "outputs": [
        {
          "output_type": "stream",
          "name": "stdout",
          "text": [
            "50.5\n"
          ]
        },
        {
          "output_type": "execute_result",
          "data": {
            "text/plain": [
              "float"
            ]
          },
          "metadata": {},
          "execution_count": 190
        }
      ]
    },
    {
      "cell_type": "code",
      "source": [
        "name=\"Himu\"\n",
        "type(name)"
      ],
      "metadata": {
        "colab": {
          "base_uri": "https://localhost:8080/"
        },
        "id": "TytSxzTQhTKr",
        "outputId": "fea09361-c7a7-48d8-df60-51c3a4e79dbd"
      },
      "execution_count": null,
      "outputs": [
        {
          "output_type": "execute_result",
          "data": {
            "text/plain": [
              "str"
            ]
          },
          "metadata": {},
          "execution_count": 191
        }
      ]
    },
    {
      "cell_type": "code",
      "source": [
        "dir(str)"
      ],
      "metadata": {
        "id": "CHNHr3vYiAMj",
        "colab": {
          "base_uri": "https://localhost:8080/"
        },
        "outputId": "a360a00e-a4aa-4a40-f7f5-03a6634205f8"
      },
      "execution_count": null,
      "outputs": [
        {
          "output_type": "execute_result",
          "data": {
            "text/plain": [
              "['__add__',\n",
              " '__class__',\n",
              " '__contains__',\n",
              " '__delattr__',\n",
              " '__dir__',\n",
              " '__doc__',\n",
              " '__eq__',\n",
              " '__format__',\n",
              " '__ge__',\n",
              " '__getattribute__',\n",
              " '__getitem__',\n",
              " '__getnewargs__',\n",
              " '__gt__',\n",
              " '__hash__',\n",
              " '__init__',\n",
              " '__init_subclass__',\n",
              " '__iter__',\n",
              " '__le__',\n",
              " '__len__',\n",
              " '__lt__',\n",
              " '__mod__',\n",
              " '__mul__',\n",
              " '__ne__',\n",
              " '__new__',\n",
              " '__reduce__',\n",
              " '__reduce_ex__',\n",
              " '__repr__',\n",
              " '__rmod__',\n",
              " '__rmul__',\n",
              " '__setattr__',\n",
              " '__sizeof__',\n",
              " '__str__',\n",
              " '__subclasshook__',\n",
              " 'capitalize',\n",
              " 'casefold',\n",
              " 'center',\n",
              " 'count',\n",
              " 'encode',\n",
              " 'endswith',\n",
              " 'expandtabs',\n",
              " 'find',\n",
              " 'format',\n",
              " 'format_map',\n",
              " 'index',\n",
              " 'isalnum',\n",
              " 'isalpha',\n",
              " 'isascii',\n",
              " 'isdecimal',\n",
              " 'isdigit',\n",
              " 'isidentifier',\n",
              " 'islower',\n",
              " 'isnumeric',\n",
              " 'isprintable',\n",
              " 'isspace',\n",
              " 'istitle',\n",
              " 'isupper',\n",
              " 'join',\n",
              " 'ljust',\n",
              " 'lower',\n",
              " 'lstrip',\n",
              " 'maketrans',\n",
              " 'partition',\n",
              " 'replace',\n",
              " 'rfind',\n",
              " 'rindex',\n",
              " 'rjust',\n",
              " 'rpartition',\n",
              " 'rsplit',\n",
              " 'rstrip',\n",
              " 'split',\n",
              " 'splitlines',\n",
              " 'startswith',\n",
              " 'strip',\n",
              " 'swapcase',\n",
              " 'title',\n",
              " 'translate',\n",
              " 'upper',\n",
              " 'zfill']"
            ]
          },
          "metadata": {},
          "execution_count": 192
        }
      ]
    },
    {
      "cell_type": "code",
      "source": [
        "str=\"welcome to data science\"\n",
        "str.capitalize()"
      ],
      "metadata": {
        "colab": {
          "base_uri": "https://localhost:8080/",
          "height": 35
        },
        "id": "Ln4ouDCRiEjK",
        "outputId": "000c942d-8b08-4140-ccf5-a35b740e08d3"
      },
      "execution_count": null,
      "outputs": [
        {
          "output_type": "execute_result",
          "data": {
            "text/plain": [
              "'Welcome to data science'"
            ],
            "application/vnd.google.colaboratory.intrinsic+json": {
              "type": "string"
            }
          },
          "metadata": {},
          "execution_count": 193
        }
      ]
    },
    {
      "cell_type": "code",
      "source": [
        "str.upper()"
      ],
      "metadata": {
        "colab": {
          "base_uri": "https://localhost:8080/",
          "height": 35
        },
        "id": "qndRYB5Gh4wc",
        "outputId": "4989701e-ca93-45dd-986d-57155c8c8c49"
      },
      "execution_count": null,
      "outputs": [
        {
          "output_type": "execute_result",
          "data": {
            "text/plain": [
              "'WELCOME TO DATA SCIENCE'"
            ],
            "application/vnd.google.colaboratory.intrinsic+json": {
              "type": "string"
            }
          },
          "metadata": {},
          "execution_count": 194
        }
      ]
    },
    {
      "cell_type": "code",
      "source": [
        "str.lower()"
      ],
      "metadata": {
        "colab": {
          "base_uri": "https://localhost:8080/",
          "height": 35
        },
        "id": "jflQeoKwiv2g",
        "outputId": "3f155d65-3b20-4925-9db5-72772a94f820"
      },
      "execution_count": null,
      "outputs": [
        {
          "output_type": "execute_result",
          "data": {
            "text/plain": [
              "'welcome to data science'"
            ],
            "application/vnd.google.colaboratory.intrinsic+json": {
              "type": "string"
            }
          },
          "metadata": {},
          "execution_count": 195
        }
      ]
    },
    {
      "cell_type": "code",
      "source": [
        "str.title()"
      ],
      "metadata": {
        "colab": {
          "base_uri": "https://localhost:8080/",
          "height": 35
        },
        "id": "ZrTBkFSjiz1M",
        "outputId": "5326cd83-474e-464f-d88d-871e821e2cf8"
      },
      "execution_count": null,
      "outputs": [
        {
          "output_type": "execute_result",
          "data": {
            "text/plain": [
              "'Welcome To Data Science'"
            ],
            "application/vnd.google.colaboratory.intrinsic+json": {
              "type": "string"
            }
          },
          "metadata": {},
          "execution_count": 196
        }
      ]
    },
    {
      "cell_type": "code",
      "source": [
        "food= \"bIrYAni\"\n",
        "name = \"HiMu\"\n",
        "print(food.swapcase())\n",
        "name.swapcase()"
      ],
      "metadata": {
        "colab": {
          "base_uri": "https://localhost:8080/",
          "height": 53
        },
        "id": "FPztQs9ui3K7",
        "outputId": "886ee969-774f-44fc-f744-0c3002651142"
      },
      "execution_count": null,
      "outputs": [
        {
          "output_type": "stream",
          "name": "stdout",
          "text": [
            "BiRyaNI\n"
          ]
        },
        {
          "output_type": "execute_result",
          "data": {
            "text/plain": [
              "'hImU'"
            ],
            "application/vnd.google.colaboratory.intrinsic+json": {
              "type": "string"
            }
          },
          "metadata": {},
          "execution_count": 197
        }
      ]
    },
    {
      "cell_type": "code",
      "source": [
        "s1 = \"my name is himu\"\n",
        "print(s1.split())\n",
        "s2 = \"Mumbai-Pune-Mumbai\"\n",
        "s2.split(\"-\")"
      ],
      "metadata": {
        "colab": {
          "base_uri": "https://localhost:8080/"
        },
        "id": "Is1aDknYjbAb",
        "outputId": "6a53eb1d-ecba-467a-88cf-0581aa1eac89"
      },
      "execution_count": null,
      "outputs": [
        {
          "output_type": "stream",
          "name": "stdout",
          "text": [
            "['my', 'name', 'is', 'himu']\n"
          ]
        },
        {
          "output_type": "execute_result",
          "data": {
            "text/plain": [
              "['Mumbai', 'Pune', 'Mumbai']"
            ]
          },
          "metadata": {},
          "execution_count": 198
        }
      ]
    },
    {
      "cell_type": "code",
      "source": [
        "mail= \"himupatil681@gmail.com\"\n",
        "mail.split(\"@\")"
      ],
      "metadata": {
        "colab": {
          "base_uri": "https://localhost:8080/"
        },
        "id": "SBtdFnZnkUS2",
        "outputId": "ea285937-a449-4e7b-d43e-1f3f0446eb26"
      },
      "execution_count": null,
      "outputs": [
        {
          "output_type": "execute_result",
          "data": {
            "text/plain": [
              "['himupatil681', 'gmail.com']"
            ]
          },
          "metadata": {},
          "execution_count": 199
        }
      ]
    },
    {
      "cell_type": "code",
      "source": [
        "s1.replace(\"himu\",\"gaurav\")"
      ],
      "metadata": {
        "colab": {
          "base_uri": "https://localhost:8080/",
          "height": 35
        },
        "id": "AM79nTp1lKrq",
        "outputId": "ec402eea-467b-4386-92a8-515b03593c58"
      },
      "execution_count": null,
      "outputs": [
        {
          "output_type": "execute_result",
          "data": {
            "text/plain": [
              "'my name is gaurav'"
            ],
            "application/vnd.google.colaboratory.intrinsic+json": {
              "type": "string"
            }
          },
          "metadata": {},
          "execution_count": 200
        }
      ]
    },
    {
      "cell_type": "code",
      "source": [
        "name.replace(\"sNEHAL\",\"himu\")"
      ],
      "metadata": {
        "colab": {
          "base_uri": "https://localhost:8080/",
          "height": 35
        },
        "id": "YvZR6QSem2p_",
        "outputId": "4bf7bb1c-e85f-4139-c9fa-074159fffc50"
      },
      "execution_count": null,
      "outputs": [
        {
          "output_type": "execute_result",
          "data": {
            "text/plain": [
              "'HiMu'"
            ],
            "application/vnd.google.colaboratory.intrinsic+json": {
              "type": "string"
            }
          },
          "metadata": {},
          "execution_count": 201
        }
      ]
    },
    {
      "cell_type": "code",
      "source": [
        "name= \"himu\"\n",
        "surname = \"patil\"\n",
        "name +\" \" + surname"
      ],
      "metadata": {
        "colab": {
          "base_uri": "https://localhost:8080/",
          "height": 35
        },
        "id": "ymfV_t7Xnlqd",
        "outputId": "f6594dbb-c7ac-4294-b9d1-b199fd68ec23"
      },
      "execution_count": null,
      "outputs": [
        {
          "output_type": "execute_result",
          "data": {
            "text/plain": [
              "'himu patil'"
            ],
            "application/vnd.google.colaboratory.intrinsic+json": {
              "type": "string"
            }
          },
          "metadata": {},
          "execution_count": 202
        }
      ]
    },
    {
      "cell_type": "code",
      "source": [
        "#Day 2 started\n",
        "b=10\n",
        "a=20\n",
        "if(a>b):\n",
        "  print(\"a is greater\")\n",
        "else:\n",
        "  print(\"b is greater\")"
      ],
      "metadata": {
        "id": "xRlDiXYkn5Ep",
        "colab": {
          "base_uri": "https://localhost:8080/"
        },
        "outputId": "4d8094cf-22d4-4a53-9c96-87579c99dc68"
      },
      "execution_count": null,
      "outputs": [
        {
          "output_type": "stream",
          "name": "stdout",
          "text": [
            "a is greater\n"
          ]
        }
      ]
    },
    {
      "cell_type": "code",
      "source": [
        "b=10\n",
        "a=20\n",
        "if(a>b):\n",
        "  print(a ,\"is greater\")\n",
        "else:\n",
        "  print(b,\"is greater\")"
      ],
      "metadata": {
        "colab": {
          "base_uri": "https://localhost:8080/"
        },
        "id": "DVy_YVPLbIYP",
        "outputId": "7e8cf20b-38f0-435b-f221-2079846449eb"
      },
      "execution_count": null,
      "outputs": [
        {
          "output_type": "stream",
          "name": "stdout",
          "text": [
            "20 is greater\n"
          ]
        }
      ]
    },
    {
      "cell_type": "code",
      "source": [
        "salary = 25000\n",
        "if (salary>20000):\n",
        "  tax = 0.25\n",
        "  print(\"Hello from true if\")\n",
        "else:\n",
        "  tax = 0.20\n",
        "  print(\"Hello from false if/else\")\n",
        "print(\"Bye... outside of if block\")\n",
        "net_sal= salary-(tax*salary)\n",
        "print(net_sal)"
      ],
      "metadata": {
        "colab": {
          "base_uri": "https://localhost:8080/"
        },
        "id": "dRW7WsvWcKTw",
        "outputId": "bca78685-2ffa-4411-f039-55ffe272f04a"
      },
      "execution_count": null,
      "outputs": [
        {
          "output_type": "stream",
          "name": "stdout",
          "text": [
            "Hello from true if\n",
            "Bye... outside of if block\n",
            "18750.0\n"
          ]
        }
      ]
    },
    {
      "cell_type": "code",
      "source": [
        "salary = 25000\n",
        "if (salary>27000):\n",
        "  tax = 0.25\n",
        "  print(\"Hello from true if\")\n",
        "else:\n",
        "  tax = 0.20\n",
        "  print(\"Hello from false if/else\")\n",
        "print(\"Bye... outside of if block\")\n",
        "net_sal= salary-tax*salary\n",
        "print(net_sal)"
      ],
      "metadata": {
        "colab": {
          "base_uri": "https://localhost:8080/"
        },
        "id": "Jtl2375zdSoh",
        "outputId": "8b5f3868-fb59-4128-cc15-8ac1926243ad"
      },
      "execution_count": null,
      "outputs": [
        {
          "output_type": "stream",
          "name": "stdout",
          "text": [
            "Hello from false if/else\n",
            "Bye... outside of if block\n",
            "20000.0\n"
          ]
        }
      ]
    },
    {
      "cell_type": "code",
      "source": [
        "range(5,10)"
      ],
      "metadata": {
        "colab": {
          "base_uri": "https://localhost:8080/"
        },
        "id": "tzjY7isYdsdh",
        "outputId": "1ed210cf-af16-4862-cea2-474dbebc224a"
      },
      "execution_count": null,
      "outputs": [
        {
          "output_type": "execute_result",
          "data": {
            "text/plain": [
              "range(5, 10)"
            ]
          },
          "metadata": {},
          "execution_count": 207
        }
      ]
    },
    {
      "cell_type": "code",
      "source": [
        "for i in range(1,11):\n",
        "  print(i)"
      ],
      "metadata": {
        "colab": {
          "base_uri": "https://localhost:8080/"
        },
        "id": "b1lbDbhHdv6Z",
        "outputId": "7c07890e-ba02-4372-ef13-1a8ab7681790"
      },
      "execution_count": null,
      "outputs": [
        {
          "output_type": "stream",
          "name": "stdout",
          "text": [
            "1\n",
            "2\n",
            "3\n",
            "4\n",
            "5\n",
            "6\n",
            "7\n",
            "8\n",
            "9\n",
            "10\n"
          ]
        }
      ]
    },
    {
      "cell_type": "code",
      "source": [
        "for number in range(5,10):\n",
        "  print(number)"
      ],
      "metadata": {
        "colab": {
          "base_uri": "https://localhost:8080/"
        },
        "id": "vcINsuAUeFtJ",
        "outputId": "9ed63116-5073-4c43-d66d-83f45525d791"
      },
      "execution_count": null,
      "outputs": [
        {
          "output_type": "stream",
          "name": "stdout",
          "text": [
            "5\n",
            "6\n",
            "7\n",
            "8\n",
            "9\n"
          ]
        }
      ]
    },
    {
      "cell_type": "code",
      "source": [
        "for Gaurav in range(1,11,2):\n",
        "  print(Gaurav)"
      ],
      "metadata": {
        "colab": {
          "base_uri": "https://localhost:8080/"
        },
        "id": "J6i7LFo8fWTN",
        "outputId": "54dbbe40-ef39-4445-d387-ca9425434bf3"
      },
      "execution_count": null,
      "outputs": [
        {
          "output_type": "stream",
          "name": "stdout",
          "text": [
            "1\n",
            "3\n",
            "5\n",
            "7\n",
            "9\n"
          ]
        }
      ]
    },
    {
      "cell_type": "code",
      "source": [
        "for Gaurav in range(2,21,2):\n",
        "  print(Gaurav)"
      ],
      "metadata": {
        "colab": {
          "base_uri": "https://localhost:8080/"
        },
        "id": "EO44if7eff1w",
        "outputId": "e58942d0-3994-4434-87ee-a7b117a6619f"
      },
      "execution_count": null,
      "outputs": [
        {
          "output_type": "stream",
          "name": "stdout",
          "text": [
            "2\n",
            "4\n",
            "6\n",
            "8\n",
            "10\n",
            "12\n",
            "14\n",
            "16\n",
            "18\n",
            "20\n"
          ]
        }
      ]
    },
    {
      "cell_type": "code",
      "source": [
        "for Gaurav in range(1,21,2):\n",
        "  print(Gaurav)"
      ],
      "metadata": {
        "colab": {
          "base_uri": "https://localhost:8080/"
        },
        "id": "Ac8wq-EKfsrc",
        "outputId": "44f5ec1e-b5d1-4e78-c0b3-7fe773e53607"
      },
      "execution_count": null,
      "outputs": [
        {
          "output_type": "stream",
          "name": "stdout",
          "text": [
            "1\n",
            "3\n",
            "5\n",
            "7\n",
            "9\n",
            "11\n",
            "13\n",
            "15\n",
            "17\n",
            "19\n"
          ]
        }
      ]
    },
    {
      "cell_type": "code",
      "source": [
        "for himu in range(1,11):\n",
        "  if himu==5:\n",
        "    break\n",
        "  else:\n",
        "    print(himu)"
      ],
      "metadata": {
        "colab": {
          "base_uri": "https://localhost:8080/"
        },
        "id": "8w4siOAlhYXc",
        "outputId": "d2163f6c-734d-4371-e67a-7ba60cfcd1ce"
      },
      "execution_count": null,
      "outputs": [
        {
          "output_type": "stream",
          "name": "stdout",
          "text": [
            "1\n",
            "2\n",
            "3\n",
            "4\n"
          ]
        }
      ]
    },
    {
      "cell_type": "code",
      "source": [
        "for num in range(1,20):\n",
        "  print(num, num*num,num*num*num)"
      ],
      "metadata": {
        "colab": {
          "base_uri": "https://localhost:8080/"
        },
        "id": "YdCAgTdVhg3k",
        "outputId": "61fc4b01-c871-41ee-ee64-8e36ac9c5e97"
      },
      "execution_count": null,
      "outputs": [
        {
          "output_type": "stream",
          "name": "stdout",
          "text": [
            "1 1 1\n",
            "2 4 8\n",
            "3 9 27\n",
            "4 16 64\n",
            "5 25 125\n",
            "6 36 216\n",
            "7 49 343\n",
            "8 64 512\n",
            "9 81 729\n",
            "10 100 1000\n",
            "11 121 1331\n",
            "12 144 1728\n",
            "13 169 2197\n",
            "14 196 2744\n",
            "15 225 3375\n",
            "16 256 4096\n",
            "17 289 4913\n",
            "18 324 5832\n",
            "19 361 6859\n"
          ]
        }
      ]
    },
    {
      "cell_type": "code",
      "source": [
        "for i in range(1,30,4):\n",
        "  print(i,end=\" \")"
      ],
      "metadata": {
        "colab": {
          "base_uri": "https://localhost:8080/"
        },
        "id": "lXgA6_6Sh6If",
        "outputId": "b697ee3e-e488-4e8c-9866-4180c7ced96a"
      },
      "execution_count": null,
      "outputs": [
        {
          "output_type": "stream",
          "name": "stdout",
          "text": [
            "1 5 9 13 17 21 25 29 "
          ]
        }
      ]
    },
    {
      "cell_type": "code",
      "source": [
        "subject = \"Science\"\n",
        "for letter in subject:\n",
        "  print(letter)"
      ],
      "metadata": {
        "colab": {
          "base_uri": "https://localhost:8080/"
        },
        "id": "1xoKncyDj2EQ",
        "outputId": "c49bb28f-be6a-408c-d9f1-5151d09d9b78"
      },
      "execution_count": null,
      "outputs": [
        {
          "output_type": "stream",
          "name": "stdout",
          "text": [
            "S\n",
            "c\n",
            "i\n",
            "e\n",
            "n\n",
            "c\n",
            "e\n"
          ]
        }
      ]
    },
    {
      "cell_type": "code",
      "source": [
        "subject = \"Science\"\n",
        "for letter in subject:\n",
        "  print(letter,end=\"\")"
      ],
      "metadata": {
        "colab": {
          "base_uri": "https://localhost:8080/"
        },
        "id": "IMDHW0NCkkUS",
        "outputId": "0282a70d-2381-4580-f635-297ddb446cdf"
      },
      "execution_count": null,
      "outputs": [
        {
          "output_type": "stream",
          "name": "stdout",
          "text": [
            "Science"
          ]
        }
      ]
    },
    {
      "cell_type": "code",
      "source": [
        "name = \"himu\"\n",
        "for value in range(3,7):\n",
        "  print(name * value)"
      ],
      "metadata": {
        "colab": {
          "base_uri": "https://localhost:8080/"
        },
        "id": "-hlvRW2dnHCY",
        "outputId": "f3203ba9-7aa0-42df-8f29-fc812facadb1"
      },
      "execution_count": null,
      "outputs": [
        {
          "output_type": "stream",
          "name": "stdout",
          "text": [
            "himuhimuhimu\n",
            "himuhimuhimuhimu\n",
            "himuhimuhimuhimuhimu\n",
            "himuhimuhimuhimuhimuhimu\n"
          ]
        }
      ]
    },
    {
      "cell_type": "code",
      "source": [
        "movie = \"KAL HO NA HO\"\n",
        "for letter in movie:\n",
        "  print(letter)"
      ],
      "metadata": {
        "colab": {
          "base_uri": "https://localhost:8080/"
        },
        "id": "J_QHpy4FosBl",
        "outputId": "d2b77af4-0055-4fb0-b439-455421bb8ed1"
      },
      "execution_count": null,
      "outputs": [
        {
          "output_type": "stream",
          "name": "stdout",
          "text": [
            "K\n",
            "A\n",
            "L\n",
            " \n",
            "H\n",
            "O\n",
            " \n",
            "N\n",
            "A\n",
            " \n",
            "H\n",
            "O\n"
          ]
        }
      ]
    },
    {
      "cell_type": "code",
      "source": [
        "movie = \"RAMLEELA\"\n",
        "for letter in movie:\n",
        "  print(letter)"
      ],
      "metadata": {
        "colab": {
          "base_uri": "https://localhost:8080/"
        },
        "id": "MQC8CGngpGBP",
        "outputId": "7c465956-8711-48cc-9d78-7f1248aa7df1"
      },
      "execution_count": null,
      "outputs": [
        {
          "output_type": "stream",
          "name": "stdout",
          "text": [
            "R\n",
            "A\n",
            "M\n",
            "L\n",
            "E\n",
            "E\n",
            "L\n",
            "A\n"
          ]
        }
      ]
    },
    {
      "cell_type": "code",
      "source": [
        "movie = \"Drishyam\"\n",
        "for letter in movie:\n",
        "  print(letter.swapcase(), end= \" \")"
      ],
      "metadata": {
        "colab": {
          "base_uri": "https://localhost:8080/"
        },
        "id": "9g8lco2-pU4g",
        "outputId": "2add0e28-ff3f-4938-c763-f6ff62207d63"
      },
      "execution_count": null,
      "outputs": [
        {
          "output_type": "stream",
          "name": "stdout",
          "text": [
            "d R I S H Y A M "
          ]
        }
      ]
    },
    {
      "cell_type": "code",
      "source": [
        "17%3"
      ],
      "metadata": {
        "colab": {
          "base_uri": "https://localhost:8080/"
        },
        "id": "0JNTCYT1p2S0",
        "outputId": "bed08598-031a-4194-a866-f33494da2676"
      },
      "execution_count": null,
      "outputs": [
        {
          "output_type": "execute_result",
          "data": {
            "text/plain": [
              "2"
            ]
          },
          "metadata": {},
          "execution_count": 222
        }
      ]
    },
    {
      "cell_type": "code",
      "source": [
        "17/3"
      ],
      "metadata": {
        "colab": {
          "base_uri": "https://localhost:8080/"
        },
        "id": "2iuFKjGorzM9",
        "outputId": "548bc467-3bcf-491a-806e-a32cfccc9262"
      },
      "execution_count": null,
      "outputs": [
        {
          "output_type": "execute_result",
          "data": {
            "text/plain": [
              "5.666666666666667"
            ]
          },
          "metadata": {},
          "execution_count": 223
        }
      ]
    },
    {
      "cell_type": "code",
      "source": [
        "for i in range(1,21):\n",
        "  if i % 2 ==0:\n",
        "    print(\"even number:\",i)\n",
        "  else:\n",
        "    print(\"odd number\",i)"
      ],
      "metadata": {
        "colab": {
          "base_uri": "https://localhost:8080/"
        },
        "id": "jq3H1eayr1oG",
        "outputId": "be308a6e-df63-4430-de81-e58529510780"
      },
      "execution_count": null,
      "outputs": [
        {
          "output_type": "stream",
          "name": "stdout",
          "text": [
            "odd number 1\n",
            "even number: 2\n",
            "odd number 3\n",
            "even number: 4\n",
            "odd number 5\n",
            "even number: 6\n",
            "odd number 7\n",
            "even number: 8\n",
            "odd number 9\n",
            "even number: 10\n",
            "odd number 11\n",
            "even number: 12\n",
            "odd number 13\n",
            "even number: 14\n",
            "odd number 15\n",
            "even number: 16\n",
            "odd number 17\n",
            "even number: 18\n",
            "odd number 19\n",
            "even number: 20\n"
          ]
        }
      ]
    },
    {
      "cell_type": "code",
      "source": [
        "print(\"Even Numbers\")\n",
        "for i in range(1,21):\n",
        "  if i % 2 ==0:\n",
        "    print(i)\n",
        "\n",
        "print(\"Odd Numbers\")\n",
        "for i in range(1,21):\n",
        "  if i % 2 ==1:\n",
        "    print(i)"
      ],
      "metadata": {
        "colab": {
          "base_uri": "https://localhost:8080/"
        },
        "id": "hBl9Atrvs2LJ",
        "outputId": "9a1a27ec-fcc4-4c62-d6d6-f965b22d296a"
      },
      "execution_count": null,
      "outputs": [
        {
          "output_type": "stream",
          "name": "stdout",
          "text": [
            "Even Numbers\n",
            "2\n",
            "4\n",
            "6\n",
            "8\n",
            "10\n",
            "12\n",
            "14\n",
            "16\n",
            "18\n",
            "20\n",
            "Odd Numbers\n",
            "1\n",
            "3\n",
            "5\n",
            "7\n",
            "9\n",
            "11\n",
            "13\n",
            "15\n",
            "17\n",
            "19\n"
          ]
        }
      ]
    },
    {
      "cell_type": "code",
      "source": [
        "status1=True\n",
        "type(status1)\n",
        "status2=False\n",
        "type(status2)"
      ],
      "metadata": {
        "colab": {
          "base_uri": "https://localhost:8080/"
        },
        "id": "zkyUr3D7u09P",
        "outputId": "de24ae8f-6914-4e6a-d96a-4eabb9b76c6d"
      },
      "execution_count": null,
      "outputs": [
        {
          "output_type": "execute_result",
          "data": {
            "text/plain": [
              "bool"
            ]
          },
          "metadata": {},
          "execution_count": 226
        }
      ]
    },
    {
      "cell_type": "code",
      "source": [
        "name = \"Data Science\"\n",
        "for letter in name:\n",
        "  print(letter*4,end=\" \")"
      ],
      "metadata": {
        "colab": {
          "base_uri": "https://localhost:8080/"
        },
        "id": "NoyP3YDEv9yG",
        "outputId": "c0f19350-561b-4738-e5e9-b6310e8b9ebb"
      },
      "execution_count": null,
      "outputs": [
        {
          "output_type": "stream",
          "name": "stdout",
          "text": [
            "DDDD aaaa tttt aaaa      SSSS cccc iiii eeee nnnn cccc eeee "
          ]
        }
      ]
    },
    {
      "cell_type": "code",
      "source": [
        "#Day-3 started\n",
        "len(\"Himu\")"
      ],
      "metadata": {
        "id": "T4TcvcLvwX6A",
        "colab": {
          "base_uri": "https://localhost:8080/"
        },
        "outputId": "1b15bf77-1b73-4791-a7bd-dec20c887dda"
      },
      "execution_count": null,
      "outputs": [
        {
          "output_type": "execute_result",
          "data": {
            "text/plain": [
              "4"
            ]
          },
          "metadata": {},
          "execution_count": 228
        }
      ]
    },
    {
      "cell_type": "code",
      "source": [
        "marks=[90,95,85,86,94,92,76,69,68]\n",
        "marks"
      ],
      "metadata": {
        "colab": {
          "base_uri": "https://localhost:8080/"
        },
        "id": "XfkFpTwu1FVa",
        "outputId": "926a29f3-8c34-4b30-ac84-07467585d60a"
      },
      "execution_count": null,
      "outputs": [
        {
          "output_type": "execute_result",
          "data": {
            "text/plain": [
              "[90, 95, 85, 86, 94, 92, 76, 69, 68]"
            ]
          },
          "metadata": {},
          "execution_count": 229
        }
      ]
    },
    {
      "cell_type": "code",
      "source": [
        "type(marks)"
      ],
      "metadata": {
        "colab": {
          "base_uri": "https://localhost:8080/"
        },
        "id": "0hg9owSx2WIp",
        "outputId": "6650b0cb-3586-40ba-feba-edc7fe57187f"
      },
      "execution_count": null,
      "outputs": [
        {
          "output_type": "execute_result",
          "data": {
            "text/plain": [
              "list"
            ]
          },
          "metadata": {},
          "execution_count": 230
        }
      ]
    },
    {
      "cell_type": "code",
      "source": [
        "dir(list)"
      ],
      "metadata": {
        "colab": {
          "base_uri": "https://localhost:8080/"
        },
        "id": "edWIZcuz2cvE",
        "outputId": "5e3a9108-dd68-4c2a-cbee-5e8f5c984cf0"
      },
      "execution_count": null,
      "outputs": [
        {
          "output_type": "execute_result",
          "data": {
            "text/plain": [
              "['__add__',\n",
              " '__class__',\n",
              " '__contains__',\n",
              " '__delattr__',\n",
              " '__delitem__',\n",
              " '__dir__',\n",
              " '__doc__',\n",
              " '__eq__',\n",
              " '__format__',\n",
              " '__ge__',\n",
              " '__getattribute__',\n",
              " '__getitem__',\n",
              " '__gt__',\n",
              " '__hash__',\n",
              " '__iadd__',\n",
              " '__imul__',\n",
              " '__init__',\n",
              " '__init_subclass__',\n",
              " '__iter__',\n",
              " '__le__',\n",
              " '__len__',\n",
              " '__lt__',\n",
              " '__mul__',\n",
              " '__ne__',\n",
              " '__new__',\n",
              " '__reduce__',\n",
              " '__reduce_ex__',\n",
              " '__repr__',\n",
              " '__reversed__',\n",
              " '__rmul__',\n",
              " '__setattr__',\n",
              " '__setitem__',\n",
              " '__sizeof__',\n",
              " '__str__',\n",
              " '__subclasshook__',\n",
              " 'append',\n",
              " 'clear',\n",
              " 'copy',\n",
              " 'count',\n",
              " 'extend',\n",
              " 'index',\n",
              " 'insert',\n",
              " 'pop',\n",
              " 'remove',\n",
              " 'reverse',\n",
              " 'sort']"
            ]
          },
          "metadata": {},
          "execution_count": 231
        }
      ]
    },
    {
      "cell_type": "code",
      "source": [
        "len(marks)"
      ],
      "metadata": {
        "colab": {
          "base_uri": "https://localhost:8080/"
        },
        "id": "IP7TxPGP2tQR",
        "outputId": "7dd04ada-3204-4c7a-fe7e-72e19bef39bf"
      },
      "execution_count": null,
      "outputs": [
        {
          "output_type": "execute_result",
          "data": {
            "text/plain": [
              "9"
            ]
          },
          "metadata": {},
          "execution_count": 232
        }
      ]
    },
    {
      "cell_type": "code",
      "source": [
        "new_marks=sorted(marks)\n",
        "new_marks"
      ],
      "metadata": {
        "colab": {
          "base_uri": "https://localhost:8080/"
        },
        "id": "u4qSn1NU3AnZ",
        "outputId": "6fa77b5b-1cde-4969-c06b-b35c908862af"
      },
      "execution_count": null,
      "outputs": [
        {
          "output_type": "execute_result",
          "data": {
            "text/plain": [
              "[68, 69, 76, 85, 86, 90, 92, 94, 95]"
            ]
          },
          "metadata": {},
          "execution_count": 233
        }
      ]
    },
    {
      "cell_type": "code",
      "source": [
        "marks.sort()\n",
        "marks"
      ],
      "metadata": {
        "colab": {
          "base_uri": "https://localhost:8080/"
        },
        "id": "3AOrhq6929Gi",
        "outputId": "1c7581aa-df27-45d3-dc7a-94ee4774534b"
      },
      "execution_count": null,
      "outputs": [
        {
          "output_type": "execute_result",
          "data": {
            "text/plain": [
              "[68, 69, 76, 85, 86, 90, 92, 94, 95]"
            ]
          },
          "metadata": {},
          "execution_count": 234
        }
      ]
    },
    {
      "cell_type": "code",
      "source": [
        "marks.append(54)\n",
        "marks"
      ],
      "metadata": {
        "colab": {
          "base_uri": "https://localhost:8080/"
        },
        "id": "Clvr6yX-3xXY",
        "outputId": "f55c174c-17f6-4fd4-ff10-b56048d18d3a"
      },
      "execution_count": null,
      "outputs": [
        {
          "output_type": "execute_result",
          "data": {
            "text/plain": [
              "[68, 69, 76, 85, 86, 90, 92, 94, 95, 54]"
            ]
          },
          "metadata": {},
          "execution_count": 235
        }
      ]
    },
    {
      "cell_type": "code",
      "source": [
        "marks.reverse()\n",
        "marks"
      ],
      "metadata": {
        "colab": {
          "base_uri": "https://localhost:8080/"
        },
        "id": "IJOobl3d4d-G",
        "outputId": "15bede98-e34f-4f33-9f9f-3665beb17a22"
      },
      "execution_count": null,
      "outputs": [
        {
          "output_type": "execute_result",
          "data": {
            "text/plain": [
              "[54, 95, 94, 92, 90, 86, 85, 76, 69, 68]"
            ]
          },
          "metadata": {},
          "execution_count": 236
        }
      ]
    },
    {
      "cell_type": "code",
      "source": [
        "marks2=[85,86,45,56,52,58,68,63,65,50]\n",
        "marks2"
      ],
      "metadata": {
        "colab": {
          "base_uri": "https://localhost:8080/"
        },
        "id": "GIy0CL5s4qou",
        "outputId": "f6475264-c1d1-47b5-e846-df85f75d3081"
      },
      "execution_count": null,
      "outputs": [
        {
          "output_type": "execute_result",
          "data": {
            "text/plain": [
              "[85, 86, 45, 56, 52, 58, 68, 63, 65, 50]"
            ]
          },
          "metadata": {},
          "execution_count": 237
        }
      ]
    },
    {
      "cell_type": "code",
      "source": [
        "marks2.sort(reverse=True)\n",
        "marks2"
      ],
      "metadata": {
        "colab": {
          "base_uri": "https://localhost:8080/"
        },
        "id": "t5j9fERJ5Yxt",
        "outputId": "2a984afb-d47e-4443-ca16-0f789090ad7b"
      },
      "execution_count": null,
      "outputs": [
        {
          "output_type": "execute_result",
          "data": {
            "text/plain": [
              "[86, 85, 68, 65, 63, 58, 56, 52, 50, 45]"
            ]
          },
          "metadata": {},
          "execution_count": 238
        }
      ]
    },
    {
      "cell_type": "code",
      "source": [
        "marks3=[40,60,50,70,80,85]\n",
        "marks3"
      ],
      "metadata": {
        "colab": {
          "base_uri": "https://localhost:8080/"
        },
        "id": "-l8C6t3o5i61",
        "outputId": "d61fd72f-4228-4c55-a264-1b390174473a"
      },
      "execution_count": null,
      "outputs": [
        {
          "output_type": "execute_result",
          "data": {
            "text/plain": [
              "[40, 60, 50, 70, 80, 85]"
            ]
          },
          "metadata": {},
          "execution_count": 239
        }
      ]
    },
    {
      "cell_type": "code",
      "source": [
        "90 in marks3"
      ],
      "metadata": {
        "colab": {
          "base_uri": "https://localhost:8080/"
        },
        "id": "TFHtW_3G5pSi",
        "outputId": "b6f4d1d7-9a86-4204-ad13-128c9d985829"
      },
      "execution_count": null,
      "outputs": [
        {
          "output_type": "execute_result",
          "data": {
            "text/plain": [
              "False"
            ]
          },
          "metadata": {},
          "execution_count": 240
        }
      ]
    },
    {
      "cell_type": "code",
      "source": [
        "70 in marks3"
      ],
      "metadata": {
        "colab": {
          "base_uri": "https://localhost:8080/"
        },
        "id": "7j1mj6L06fGh",
        "outputId": "284426d7-cecf-41c6-cdc4-5ad58551e833"
      },
      "execution_count": null,
      "outputs": [
        {
          "output_type": "execute_result",
          "data": {
            "text/plain": [
              "True"
            ]
          },
          "metadata": {},
          "execution_count": 241
        }
      ]
    },
    {
      "cell_type": "code",
      "source": [
        "list1=[20,50,80]\n",
        "list2=[40,60,90]\n",
        "list1+list2"
      ],
      "metadata": {
        "colab": {
          "base_uri": "https://localhost:8080/"
        },
        "id": "qfA3H-Ef6hl6",
        "outputId": "f0990a8a-8972-446e-a37d-c21039e8fe56"
      },
      "execution_count": null,
      "outputs": [
        {
          "output_type": "execute_result",
          "data": {
            "text/plain": [
              "[20, 50, 80, 40, 60, 90]"
            ]
          },
          "metadata": {},
          "execution_count": 242
        }
      ]
    },
    {
      "cell_type": "code",
      "source": [
        "(list1+list2)*3"
      ],
      "metadata": {
        "colab": {
          "base_uri": "https://localhost:8080/"
        },
        "id": "OOg5_nNx7Q_9",
        "outputId": "1dbba9e8-a43a-4080-e08f-07c8f2e395ee"
      },
      "execution_count": null,
      "outputs": [
        {
          "output_type": "execute_result",
          "data": {
            "text/plain": [
              "[20, 50, 80, 40, 60, 90, 20, 50, 80, 40, 60, 90, 20, 50, 80, 40, 60, 90]"
            ]
          },
          "metadata": {},
          "execution_count": 243
        }
      ]
    },
    {
      "cell_type": "code",
      "source": [
        "Playing11=[\"Rohit\",\"Dhavan\",\"kohli\",\"surya\",\"rishabh\",\"hardik\",\"jadeja\",\"chahal\",\"bumrah\",\"shami\",\"arshdip\"]\n",
        "Playing11"
      ],
      "metadata": {
        "colab": {
          "base_uri": "https://localhost:8080/"
        },
        "id": "SBH9LQvl5hVe",
        "outputId": "4283478b-08f4-487a-aa6e-323173dcb9ef"
      },
      "execution_count": null,
      "outputs": [
        {
          "output_type": "execute_result",
          "data": {
            "text/plain": [
              "['Rohit',\n",
              " 'Dhavan',\n",
              " 'kohli',\n",
              " 'surya',\n",
              " 'rishabh',\n",
              " 'hardik',\n",
              " 'jadeja',\n",
              " 'chahal',\n",
              " 'bumrah',\n",
              " 'shami',\n",
              " 'arshdip']"
            ]
          },
          "metadata": {},
          "execution_count": 244
        }
      ]
    },
    {
      "cell_type": "code",
      "source": [
        "for letter in Playing11:\n",
        "  print(letter.upper())"
      ],
      "metadata": {
        "colab": {
          "base_uri": "https://localhost:8080/"
        },
        "id": "bbls-BIv88ie",
        "outputId": "f194a48d-a463-4f47-8c57-32912252e268"
      },
      "execution_count": null,
      "outputs": [
        {
          "output_type": "stream",
          "name": "stdout",
          "text": [
            "ROHIT\n",
            "DHAVAN\n",
            "KOHLI\n",
            "SURYA\n",
            "RISHABH\n",
            "HARDIK\n",
            "JADEJA\n",
            "CHAHAL\n",
            "BUMRAH\n",
            "SHAMI\n",
            "ARSHDIP\n"
          ]
        }
      ]
    },
    {
      "cell_type": "code",
      "source": [
        "for letter in Playing11:\n",
        "  print(letter.upper(),end=\" \")\n",
        "  print(letter.replace(\"a\",\"u\"),end=\" \")"
      ],
      "metadata": {
        "colab": {
          "base_uri": "https://localhost:8080/"
        },
        "id": "t6Vl0SoL8fCn",
        "outputId": "c5c7a36c-06b4-47f3-e445-d45caea3cd2c"
      },
      "execution_count": null,
      "outputs": [
        {
          "output_type": "stream",
          "name": "stdout",
          "text": [
            "ROHIT Rohit DHAVAN Dhuvun KOHLI kohli SURYA suryu RISHABH rishubh HARDIK hurdik JADEJA judeju CHAHAL chuhul BUMRAH bumruh SHAMI shumi ARSHDIP urshdip "
          ]
        }
      ]
    },
    {
      "cell_type": "code",
      "source": [
        "Playing11[0]"
      ],
      "metadata": {
        "colab": {
          "base_uri": "https://localhost:8080/",
          "height": 35
        },
        "id": "5YrHYZE49wMl",
        "outputId": "831a7c50-7a8b-4ed7-b5a6-765d5e56bfbb"
      },
      "execution_count": null,
      "outputs": [
        {
          "output_type": "execute_result",
          "data": {
            "text/plain": [
              "'Rohit'"
            ],
            "application/vnd.google.colaboratory.intrinsic+json": {
              "type": "string"
            }
          },
          "metadata": {},
          "execution_count": 247
        }
      ]
    },
    {
      "cell_type": "code",
      "source": [
        "Playing11[10]"
      ],
      "metadata": {
        "colab": {
          "base_uri": "https://localhost:8080/",
          "height": 35
        },
        "id": "4E-m3nAC_V0J",
        "outputId": "18d81594-0f67-4fdc-81ef-94148b1d383b"
      },
      "execution_count": null,
      "outputs": [
        {
          "output_type": "execute_result",
          "data": {
            "text/plain": [
              "'arshdip'"
            ],
            "application/vnd.google.colaboratory.intrinsic+json": {
              "type": "string"
            }
          },
          "metadata": {},
          "execution_count": 248
        }
      ]
    },
    {
      "cell_type": "code",
      "source": [
        "Playing11[0:7]"
      ],
      "metadata": {
        "colab": {
          "base_uri": "https://localhost:8080/"
        },
        "id": "WC0MRGQjAATu",
        "outputId": "91215e92-7e9d-4ba7-8169-f6ca56237ddb"
      },
      "execution_count": null,
      "outputs": [
        {
          "output_type": "execute_result",
          "data": {
            "text/plain": [
              "['Rohit', 'Dhavan', 'kohli', 'surya', 'rishabh', 'hardik', 'jadeja']"
            ]
          },
          "metadata": {},
          "execution_count": 249
        }
      ]
    },
    {
      "cell_type": "code",
      "source": [
        "Playing11[7:11]"
      ],
      "metadata": {
        "colab": {
          "base_uri": "https://localhost:8080/"
        },
        "id": "OjBrcXYYAaSV",
        "outputId": "86e641eb-ca74-47fa-bacf-4388ee8c5a29"
      },
      "execution_count": null,
      "outputs": [
        {
          "output_type": "execute_result",
          "data": {
            "text/plain": [
              "['chahal', 'bumrah', 'shami', 'arshdip']"
            ]
          },
          "metadata": {},
          "execution_count": 250
        }
      ]
    },
    {
      "cell_type": "code",
      "source": [
        "Playing11[0:]"
      ],
      "metadata": {
        "colab": {
          "base_uri": "https://localhost:8080/"
        },
        "id": "TGI8jFYJBY9_",
        "outputId": "6d902b95-75fb-47c2-dc34-51d8e1676165"
      },
      "execution_count": null,
      "outputs": [
        {
          "output_type": "execute_result",
          "data": {
            "text/plain": [
              "['Rohit',\n",
              " 'Dhavan',\n",
              " 'kohli',\n",
              " 'surya',\n",
              " 'rishabh',\n",
              " 'hardik',\n",
              " 'jadeja',\n",
              " 'chahal',\n",
              " 'bumrah',\n",
              " 'shami',\n",
              " 'arshdip']"
            ]
          },
          "metadata": {},
          "execution_count": 251
        }
      ]
    },
    {
      "cell_type": "code",
      "source": [
        "Playing11[:7]"
      ],
      "metadata": {
        "colab": {
          "base_uri": "https://localhost:8080/"
        },
        "id": "UndP5LzJBsfH",
        "outputId": "9ea11149-2c56-41bc-99b1-6e20aa27e1e4"
      },
      "execution_count": null,
      "outputs": [
        {
          "output_type": "execute_result",
          "data": {
            "text/plain": [
              "['Rohit', 'Dhavan', 'kohli', 'surya', 'rishabh', 'hardik', 'jadeja']"
            ]
          },
          "metadata": {},
          "execution_count": 252
        }
      ]
    },
    {
      "cell_type": "code",
      "source": [
        "Playing11[-7]"
      ],
      "metadata": {
        "colab": {
          "base_uri": "https://localhost:8080/",
          "height": 35
        },
        "id": "UUl3dtY_Bvq-",
        "outputId": "b1bca3fd-3aaa-4cd5-b5c9-2f6e62e144f8"
      },
      "execution_count": null,
      "outputs": [
        {
          "output_type": "execute_result",
          "data": {
            "text/plain": [
              "'rishabh'"
            ],
            "application/vnd.google.colaboratory.intrinsic+json": {
              "type": "string"
            }
          },
          "metadata": {},
          "execution_count": 253
        }
      ]
    },
    {
      "cell_type": "code",
      "source": [
        "Playing11[::2]"
      ],
      "metadata": {
        "colab": {
          "base_uri": "https://localhost:8080/"
        },
        "id": "VCqZbSQVB22O",
        "outputId": "aba0b43d-23f7-4431-c2d4-7035b562d685"
      },
      "execution_count": null,
      "outputs": [
        {
          "output_type": "execute_result",
          "data": {
            "text/plain": [
              "['Rohit', 'kohli', 'rishabh', 'jadeja', 'bumrah', 'arshdip']"
            ]
          },
          "metadata": {},
          "execution_count": 254
        }
      ]
    },
    {
      "cell_type": "code",
      "source": [
        "n1=list(range(1,31))\n",
        "print(n1,end=\" \")"
      ],
      "metadata": {
        "colab": {
          "base_uri": "https://localhost:8080/"
        },
        "id": "PE4jE2EqDaVC",
        "outputId": "4ce79bcc-dc55-41d5-bd9a-01212402f21f"
      },
      "execution_count": null,
      "outputs": [
        {
          "output_type": "stream",
          "name": "stdout",
          "text": [
            "[1, 2, 3, 4, 5, 6, 7, 8, 9, 10, 11, 12, 13, 14, 15, 16, 17, 18, 19, 20, 21, 22, 23, 24, 25, 26, 27, 28, 29, 30] "
          ]
        }
      ]
    },
    {
      "cell_type": "code",
      "source": [
        "print(Playing11, end=\" \")"
      ],
      "metadata": {
        "colab": {
          "base_uri": "https://localhost:8080/"
        },
        "id": "1lZDAzWlFu9M",
        "outputId": "aa5a0ad3-1303-438f-f91a-aeffc2e5ece8"
      },
      "execution_count": null,
      "outputs": [
        {
          "output_type": "stream",
          "name": "stdout",
          "text": [
            "['Rohit', 'Dhavan', 'kohli', 'surya', 'rishabh', 'hardik', 'jadeja', 'chahal', 'bumrah', 'shami', 'arshdip'] "
          ]
        }
      ]
    },
    {
      "cell_type": "code",
      "source": [
        "Playing11[::-2]"
      ],
      "metadata": {
        "colab": {
          "base_uri": "https://localhost:8080/"
        },
        "id": "UDQxZkADF9Of",
        "outputId": "32a34c54-53a3-4afa-a563-29f741ab5a9f"
      },
      "execution_count": null,
      "outputs": [
        {
          "output_type": "execute_result",
          "data": {
            "text/plain": [
              "['arshdip', 'bumrah', 'jadeja', 'rishabh', 'kohli', 'Rohit']"
            ]
          },
          "metadata": {},
          "execution_count": 257
        }
      ]
    },
    {
      "cell_type": "code",
      "source": [
        "'the' in 'Netherland'"
      ],
      "metadata": {
        "colab": {
          "base_uri": "https://localhost:8080/"
        },
        "id": "GH8L9UNeGD0q",
        "outputId": "3146ad1f-da8f-4e1f-dfd9-aca89dea14c8"
      },
      "execution_count": null,
      "outputs": [
        {
          "output_type": "execute_result",
          "data": {
            "text/plain": [
              "True"
            ]
          },
          "metadata": {},
          "execution_count": 258
        }
      ]
    },
    {
      "cell_type": "code",
      "source": [
        "'The' in 'Netherland'"
      ],
      "metadata": {
        "colab": {
          "base_uri": "https://localhost:8080/"
        },
        "id": "qlv0E4GJGU7K",
        "outputId": "88fc5671-e210-4a68-8fc8-2e0b0b0eff8d"
      },
      "execution_count": null,
      "outputs": [
        {
          "output_type": "execute_result",
          "data": {
            "text/plain": [
              "False"
            ]
          },
          "metadata": {},
          "execution_count": 259
        }
      ]
    },
    {
      "cell_type": "code",
      "source": [
        "Playing11"
      ],
      "metadata": {
        "colab": {
          "base_uri": "https://localhost:8080/"
        },
        "id": "jbTCnf67GrzG",
        "outputId": "65824370-6ba6-4f86-bc99-069851659ca2"
      },
      "execution_count": null,
      "outputs": [
        {
          "output_type": "execute_result",
          "data": {
            "text/plain": [
              "['Rohit',\n",
              " 'Dhavan',\n",
              " 'kohli',\n",
              " 'surya',\n",
              " 'rishabh',\n",
              " 'hardik',\n",
              " 'jadeja',\n",
              " 'chahal',\n",
              " 'bumrah',\n",
              " 'shami',\n",
              " 'arshdip']"
            ]
          },
          "metadata": {},
          "execution_count": 260
        }
      ]
    },
    {
      "cell_type": "code",
      "source": [
        "Playing11.append(\"Dhoni\")\n",
        "Playing11"
      ],
      "metadata": {
        "colab": {
          "base_uri": "https://localhost:8080/"
        },
        "id": "Jb9fbxjEG3da",
        "outputId": "5761aa2c-5873-4505-98e0-54261ca1ef00"
      },
      "execution_count": null,
      "outputs": [
        {
          "output_type": "execute_result",
          "data": {
            "text/plain": [
              "['Rohit',\n",
              " 'Dhavan',\n",
              " 'kohli',\n",
              " 'surya',\n",
              " 'rishabh',\n",
              " 'hardik',\n",
              " 'jadeja',\n",
              " 'chahal',\n",
              " 'bumrah',\n",
              " 'shami',\n",
              " 'arshdip',\n",
              " 'Dhoni']"
            ]
          },
          "metadata": {},
          "execution_count": 261
        }
      ]
    },
    {
      "cell_type": "code",
      "source": [
        "for letter in Playing11:\n",
        "  if \"oh\" in letter:\n",
        "    print(letter)"
      ],
      "metadata": {
        "colab": {
          "base_uri": "https://localhost:8080/"
        },
        "id": "5crNHZCfHA6o",
        "outputId": "a7db8aa8-2dcb-4796-d5aa-009a757a44d7"
      },
      "execution_count": null,
      "outputs": [
        {
          "output_type": "stream",
          "name": "stdout",
          "text": [
            "Rohit\n",
            "kohli\n"
          ]
        }
      ]
    },
    {
      "cell_type": "code",
      "source": [
        "for letter in Playing11:\n",
        "  if \"ha\" in letter:\n",
        "    print(letter)"
      ],
      "metadata": {
        "colab": {
          "base_uri": "https://localhost:8080/"
        },
        "id": "pJ_xBxO4HRLX",
        "outputId": "6a74aa8d-1b57-4137-b731-7271ded17ecc"
      },
      "execution_count": null,
      "outputs": [
        {
          "output_type": "stream",
          "name": "stdout",
          "text": [
            "Dhavan\n",
            "rishabh\n",
            "hardik\n",
            "chahal\n",
            "shami\n"
          ]
        }
      ]
    },
    {
      "cell_type": "code",
      "source": [
        "NewPlaying11=[]\n",
        "NewPlaying12=[]\n",
        "for letter in Playing11:\n",
        "  if \"ha\" in letter:\n",
        "    NewPlaying11.append(letter)\n",
        "  else:\n",
        "    NewPlaying12.append(letter)\n",
        "print(NewPlaying11,end=\" \")\n",
        "print(NewPlaying12,end=\" \")"
      ],
      "metadata": {
        "colab": {
          "base_uri": "https://localhost:8080/"
        },
        "id": "OUToTAnpIw2_",
        "outputId": "91986e5a-bbc7-46f8-bf1f-680d8d59bc66"
      },
      "execution_count": null,
      "outputs": [
        {
          "output_type": "stream",
          "name": "stdout",
          "text": [
            "['Dhavan', 'rishabh', 'hardik', 'chahal', 'shami'] ['Rohit', 'kohli', 'surya', 'jadeja', 'bumrah', 'arshdip', 'Dhoni'] "
          ]
        }
      ]
    },
    {
      "cell_type": "code",
      "source": [
        "l1=[2,3,4,5,6]\n",
        "l2=[]\n",
        "for i in l1:\n",
        "  l2.append(i**2)\n",
        "print(l1,end=\" \")\n",
        "print(l2,end=\" \")"
      ],
      "metadata": {
        "colab": {
          "base_uri": "https://localhost:8080/"
        },
        "id": "GMgW79zhJLhQ",
        "outputId": "c681e58b-eab8-4ab3-c01f-5423894f4abc"
      },
      "execution_count": null,
      "outputs": [
        {
          "output_type": "stream",
          "name": "stdout",
          "text": [
            "[2, 3, 4, 5, 6] [4, 9, 16, 25, 36] "
          ]
        }
      ]
    },
    {
      "cell_type": "code",
      "source": [
        "#Day-4 started\n",
        "l1=[2,3,4,5,6]\n",
        "l2=[i**3 for i in l1]\n",
        "print(l1,end=\" \")\n",
        "print(l2,end=\" \")"
      ],
      "metadata": {
        "id": "r0ReTGP6NWig",
        "colab": {
          "base_uri": "https://localhost:8080/"
        },
        "outputId": "3af085f8-4daf-4646-f16b-86a9925c8c15"
      },
      "execution_count": null,
      "outputs": [
        {
          "output_type": "stream",
          "name": "stdout",
          "text": [
            "[2, 3, 4, 5, 6] [8, 27, 64, 125, 216] "
          ]
        }
      ]
    },
    {
      "cell_type": "code",
      "source": [
        "Playing11"
      ],
      "metadata": {
        "colab": {
          "base_uri": "https://localhost:8080/"
        },
        "id": "tK_q0pl5Ad3N",
        "outputId": "d90a350f-c9cb-4746-b2e5-08ae4fa608b4"
      },
      "execution_count": null,
      "outputs": [
        {
          "output_type": "execute_result",
          "data": {
            "text/plain": [
              "['Rohit',\n",
              " 'Dhavan',\n",
              " 'kohli',\n",
              " 'surya',\n",
              " 'rishabh',\n",
              " 'hardik',\n",
              " 'jadeja',\n",
              " 'chahal',\n",
              " 'bumrah',\n",
              " 'shami',\n",
              " 'arshdip',\n",
              " 'Dhoni']"
            ]
          },
          "metadata": {},
          "execution_count": 267
        }
      ]
    },
    {
      "cell_type": "code",
      "source": [
        "newlist=[letter for letter in Playing11 if 'ha' in letter]\n",
        "newlist"
      ],
      "metadata": {
        "colab": {
          "base_uri": "https://localhost:8080/"
        },
        "id": "QbRz5VRyAgnl",
        "outputId": "69a4b7da-9eaf-40a6-a77d-4a74325c0138"
      },
      "execution_count": null,
      "outputs": [
        {
          "output_type": "execute_result",
          "data": {
            "text/plain": [
              "['Dhavan', 'rishabh', 'hardik', 'chahal', 'shami']"
            ]
          },
          "metadata": {},
          "execution_count": 268
        }
      ]
    },
    {
      "cell_type": "code",
      "source": [
        "newlist2=[letter for letter in Playing11 if 'ha' not in letter]\n",
        "newlist2"
      ],
      "metadata": {
        "colab": {
          "base_uri": "https://localhost:8080/"
        },
        "id": "XRnaGreWDAl1",
        "outputId": "6aa9fa2e-2e49-4e4d-9568-87dc67e44844"
      },
      "execution_count": null,
      "outputs": [
        {
          "output_type": "execute_result",
          "data": {
            "text/plain": [
              "['Rohit', 'kohli', 'surya', 'jadeja', 'bumrah', 'arshdip', 'Dhoni']"
            ]
          },
          "metadata": {},
          "execution_count": 269
        }
      ]
    },
    {
      "cell_type": "code",
      "source": [
        "Playing11.index('Dhoni')"
      ],
      "metadata": {
        "colab": {
          "base_uri": "https://localhost:8080/"
        },
        "id": "LY2HGe-ADtM1",
        "outputId": "f40c68e6-79c3-4c56-c40f-0ed2058640c4"
      },
      "execution_count": null,
      "outputs": [
        {
          "output_type": "execute_result",
          "data": {
            "text/plain": [
              "11"
            ]
          },
          "metadata": {},
          "execution_count": 270
        }
      ]
    },
    {
      "cell_type": "code",
      "source": [
        "Playing11[3]= \"Shreyas\"\n",
        "Playing11"
      ],
      "metadata": {
        "colab": {
          "base_uri": "https://localhost:8080/"
        },
        "id": "DWqcTYZNDyAp",
        "outputId": "7ec25bae-2a8e-454d-a04d-16a681b19ea6"
      },
      "execution_count": null,
      "outputs": [
        {
          "output_type": "execute_result",
          "data": {
            "text/plain": [
              "['Rohit',\n",
              " 'Dhavan',\n",
              " 'kohli',\n",
              " 'Shreyas',\n",
              " 'rishabh',\n",
              " 'hardik',\n",
              " 'jadeja',\n",
              " 'chahal',\n",
              " 'bumrah',\n",
              " 'shami',\n",
              " 'arshdip',\n",
              " 'Dhoni']"
            ]
          },
          "metadata": {},
          "execution_count": 271
        }
      ]
    },
    {
      "cell_type": "code",
      "source": [
        "t1=(2,3,5,7,8,9,10)\n",
        "t1"
      ],
      "metadata": {
        "colab": {
          "base_uri": "https://localhost:8080/"
        },
        "id": "BJOpI5p7EiMF",
        "outputId": "0b1b7ac0-5503-4dc7-b734-1f6488303c39"
      },
      "execution_count": null,
      "outputs": [
        {
          "output_type": "execute_result",
          "data": {
            "text/plain": [
              "(2, 3, 5, 7, 8, 9, 10)"
            ]
          },
          "metadata": {},
          "execution_count": 272
        }
      ]
    },
    {
      "cell_type": "code",
      "source": [
        "type(t1)"
      ],
      "metadata": {
        "colab": {
          "base_uri": "https://localhost:8080/"
        },
        "id": "R3BqBz3lGD_F",
        "outputId": "f941e5bf-7af5-4d55-a736-76eca3b49261"
      },
      "execution_count": null,
      "outputs": [
        {
          "output_type": "execute_result",
          "data": {
            "text/plain": [
              "tuple"
            ]
          },
          "metadata": {},
          "execution_count": 273
        }
      ]
    },
    {
      "cell_type": "code",
      "source": [
        "t1[3]"
      ],
      "metadata": {
        "colab": {
          "base_uri": "https://localhost:8080/"
        },
        "id": "o2aryTGXGHC8",
        "outputId": "8d0ddf7e-db9a-401f-a151-fa8709517786"
      },
      "execution_count": null,
      "outputs": [
        {
          "output_type": "execute_result",
          "data": {
            "text/plain": [
              "7"
            ]
          },
          "metadata": {},
          "execution_count": 274
        }
      ]
    },
    {
      "cell_type": "code",
      "source": [
        "dir(t1)"
      ],
      "metadata": {
        "colab": {
          "base_uri": "https://localhost:8080/"
        },
        "id": "eyYSsh0UGvpo",
        "outputId": "7b4b9c89-3558-46f8-d658-fcfe40c1275c"
      },
      "execution_count": null,
      "outputs": [
        {
          "output_type": "execute_result",
          "data": {
            "text/plain": [
              "['__add__',\n",
              " '__class__',\n",
              " '__contains__',\n",
              " '__delattr__',\n",
              " '__dir__',\n",
              " '__doc__',\n",
              " '__eq__',\n",
              " '__format__',\n",
              " '__ge__',\n",
              " '__getattribute__',\n",
              " '__getitem__',\n",
              " '__getnewargs__',\n",
              " '__gt__',\n",
              " '__hash__',\n",
              " '__init__',\n",
              " '__init_subclass__',\n",
              " '__iter__',\n",
              " '__le__',\n",
              " '__len__',\n",
              " '__lt__',\n",
              " '__mul__',\n",
              " '__ne__',\n",
              " '__new__',\n",
              " '__reduce__',\n",
              " '__reduce_ex__',\n",
              " '__repr__',\n",
              " '__rmul__',\n",
              " '__setattr__',\n",
              " '__sizeof__',\n",
              " '__str__',\n",
              " '__subclasshook__',\n",
              " 'count',\n",
              " 'index']"
            ]
          },
          "metadata": {},
          "execution_count": 275
        }
      ]
    },
    {
      "cell_type": "code",
      "source": [
        "t1.count(5)"
      ],
      "metadata": {
        "colab": {
          "base_uri": "https://localhost:8080/"
        },
        "id": "6TqIXElOG1dJ",
        "outputId": "ca7fad69-be72-43f3-fdae-9696e5c6aced"
      },
      "execution_count": null,
      "outputs": [
        {
          "output_type": "execute_result",
          "data": {
            "text/plain": [
              "1"
            ]
          },
          "metadata": {},
          "execution_count": 276
        }
      ]
    },
    {
      "cell_type": "code",
      "source": [
        "t1.index(7)"
      ],
      "metadata": {
        "colab": {
          "base_uri": "https://localhost:8080/"
        },
        "id": "t5cq83lCHBPs",
        "outputId": "8f1e37cb-3906-4511-ce9d-c38c001fd619"
      },
      "execution_count": null,
      "outputs": [
        {
          "output_type": "execute_result",
          "data": {
            "text/plain": [
              "3"
            ]
          },
          "metadata": {},
          "execution_count": 277
        }
      ]
    },
    {
      "cell_type": "code",
      "source": [
        "lastodiruns_dict={\"Virat\": 183,\"Rohit\": 264}\n",
        "print(lastodiruns_dict)"
      ],
      "metadata": {
        "colab": {
          "base_uri": "https://localhost:8080/"
        },
        "id": "QcWGDHULHF7s",
        "outputId": "022069aa-9885-48e6-ade7-c6f9c195fc8d"
      },
      "execution_count": null,
      "outputs": [
        {
          "output_type": "stream",
          "name": "stdout",
          "text": [
            "{'Virat': 183, 'Rohit': 264}\n"
          ]
        }
      ]
    },
    {
      "cell_type": "code",
      "source": [
        "type(lastodiruns_dict)"
      ],
      "metadata": {
        "colab": {
          "base_uri": "https://localhost:8080/"
        },
        "id": "xUIfw374J1im",
        "outputId": "9903b43e-300b-4379-9a78-c8cd4249b6ae"
      },
      "execution_count": null,
      "outputs": [
        {
          "output_type": "execute_result",
          "data": {
            "text/plain": [
              "dict"
            ]
          },
          "metadata": {},
          "execution_count": 279
        }
      ]
    },
    {
      "cell_type": "code",
      "source": [
        "dir(lastodiruns_dict)"
      ],
      "metadata": {
        "colab": {
          "base_uri": "https://localhost:8080/"
        },
        "id": "lXZosUG4KXe2",
        "outputId": "73b7757c-4468-432c-f0db-a9f26aa6eba8"
      },
      "execution_count": null,
      "outputs": [
        {
          "output_type": "execute_result",
          "data": {
            "text/plain": [
              "['__class__',\n",
              " '__contains__',\n",
              " '__delattr__',\n",
              " '__delitem__',\n",
              " '__dir__',\n",
              " '__doc__',\n",
              " '__eq__',\n",
              " '__format__',\n",
              " '__ge__',\n",
              " '__getattribute__',\n",
              " '__getitem__',\n",
              " '__gt__',\n",
              " '__hash__',\n",
              " '__init__',\n",
              " '__init_subclass__',\n",
              " '__iter__',\n",
              " '__le__',\n",
              " '__len__',\n",
              " '__lt__',\n",
              " '__ne__',\n",
              " '__new__',\n",
              " '__reduce__',\n",
              " '__reduce_ex__',\n",
              " '__repr__',\n",
              " '__reversed__',\n",
              " '__setattr__',\n",
              " '__setitem__',\n",
              " '__sizeof__',\n",
              " '__str__',\n",
              " '__subclasshook__',\n",
              " 'clear',\n",
              " 'copy',\n",
              " 'fromkeys',\n",
              " 'get',\n",
              " 'items',\n",
              " 'keys',\n",
              " 'pop',\n",
              " 'popitem',\n",
              " 'setdefault',\n",
              " 'update',\n",
              " 'values']"
            ]
          },
          "metadata": {},
          "execution_count": 280
        }
      ]
    },
    {
      "cell_type": "code",
      "source": [
        "lastodiruns_dict[\"Virat\"]"
      ],
      "metadata": {
        "colab": {
          "base_uri": "https://localhost:8080/"
        },
        "id": "ZOlJGYurKa1d",
        "outputId": "2a6667b9-5c28-4437-83d1-4e6c7c16157c"
      },
      "execution_count": null,
      "outputs": [
        {
          "output_type": "execute_result",
          "data": {
            "text/plain": [
              "183"
            ]
          },
          "metadata": {},
          "execution_count": 281
        }
      ]
    },
    {
      "cell_type": "code",
      "source": [
        "keys=lastodiruns_dict.keys()\n",
        "keys"
      ],
      "metadata": {
        "colab": {
          "base_uri": "https://localhost:8080/"
        },
        "id": "TuzER1C_LCjx",
        "outputId": "8a8b37eb-9bdb-4c1b-d1a3-1cb91f613e67"
      },
      "execution_count": null,
      "outputs": [
        {
          "output_type": "execute_result",
          "data": {
            "text/plain": [
              "dict_keys(['Virat', 'Rohit'])"
            ]
          },
          "metadata": {},
          "execution_count": 282
        }
      ]
    },
    {
      "cell_type": "code",
      "source": [
        "values=lastodiruns_dict.values()\n",
        "values"
      ],
      "metadata": {
        "colab": {
          "base_uri": "https://localhost:8080/"
        },
        "id": "fl21sTNiMJYT",
        "outputId": "384b416d-06f2-45bb-c5d0-9e95126a1845"
      },
      "execution_count": null,
      "outputs": [
        {
          "output_type": "execute_result",
          "data": {
            "text/plain": [
              "dict_values([183, 264])"
            ]
          },
          "metadata": {},
          "execution_count": 283
        }
      ]
    },
    {
      "cell_type": "code",
      "source": [
        "items=lastodiruns_dict.items()\n",
        "items"
      ],
      "metadata": {
        "colab": {
          "base_uri": "https://localhost:8080/"
        },
        "id": "gGJ9FfwqMToJ",
        "outputId": "cde049ee-f664-4cc1-96fa-f601a98ec610"
      },
      "execution_count": null,
      "outputs": [
        {
          "output_type": "execute_result",
          "data": {
            "text/plain": [
              "dict_items([('Virat', 183), ('Rohit', 264)])"
            ]
          },
          "metadata": {},
          "execution_count": 284
        }
      ]
    },
    {
      "cell_type": "code",
      "source": [
        "add_lastodiruns={\"Dhoni\": 183}\n",
        "lastodiruns_dict.update(add_lastodiruns)\n",
        "lastodiruns_dict"
      ],
      "metadata": {
        "colab": {
          "base_uri": "https://localhost:8080/"
        },
        "id": "wHzCLO6xMZgx",
        "outputId": "73416f4c-a844-45c3-8e14-82a4424e6298"
      },
      "execution_count": null,
      "outputs": [
        {
          "output_type": "execute_result",
          "data": {
            "text/plain": [
              "{'Virat': 183, 'Rohit': 264, 'Dhoni': 183}"
            ]
          },
          "metadata": {},
          "execution_count": 285
        }
      ]
    },
    {
      "cell_type": "code",
      "source": [
        "lastodiruns_dict.update({\"Surya\": 111})\n",
        "lastodiruns_dict"
      ],
      "metadata": {
        "colab": {
          "base_uri": "https://localhost:8080/"
        },
        "id": "gQqoDXw0Ow59",
        "outputId": "f5449873-d050-4072-f718-746d70775312"
      },
      "execution_count": null,
      "outputs": [
        {
          "output_type": "execute_result",
          "data": {
            "text/plain": [
              "{'Virat': 183, 'Rohit': 264, 'Dhoni': 183, 'Surya': 111}"
            ]
          },
          "metadata": {},
          "execution_count": 286
        }
      ]
    },
    {
      "cell_type": "code",
      "source": [
        "lastodiruns_dict.pop(\"Surya\")\n",
        "lastodiruns_dict"
      ],
      "metadata": {
        "colab": {
          "base_uri": "https://localhost:8080/"
        },
        "id": "cebFd2AQPylz",
        "outputId": "695d30d3-f59d-4522-887f-f08b442aa0d1"
      },
      "execution_count": null,
      "outputs": [
        {
          "output_type": "execute_result",
          "data": {
            "text/plain": [
              "{'Virat': 183, 'Rohit': 264, 'Dhoni': 183}"
            ]
          },
          "metadata": {},
          "execution_count": 287
        }
      ]
    },
    {
      "cell_type": "code",
      "source": [
        "from math import sqrt\n",
        "sqrt(225)"
      ],
      "metadata": {
        "colab": {
          "base_uri": "https://localhost:8080/"
        },
        "id": "9pm7D6IXVJMX",
        "outputId": "0db94b83-a0b3-422b-9b94-b68f12a9474c"
      },
      "execution_count": null,
      "outputs": [
        {
          "output_type": "execute_result",
          "data": {
            "text/plain": [
              "15.0"
            ]
          },
          "metadata": {},
          "execution_count": 288
        }
      ]
    },
    {
      "cell_type": "code",
      "source": [
        "from math import factorial\n",
        "factorial(10)"
      ],
      "metadata": {
        "colab": {
          "base_uri": "https://localhost:8080/"
        },
        "id": "Sm1CHI0FVWZL",
        "outputId": "d6658620-e469-4b8e-d31c-101b54a2b0ca"
      },
      "execution_count": null,
      "outputs": [
        {
          "output_type": "execute_result",
          "data": {
            "text/plain": [
              "3628800"
            ]
          },
          "metadata": {},
          "execution_count": 289
        }
      ]
    },
    {
      "cell_type": "code",
      "source": [
        "from math import *"
      ],
      "metadata": {
        "id": "vbfM-KkzVijG"
      },
      "execution_count": null,
      "outputs": []
    },
    {
      "cell_type": "code",
      "source": [
        "L1=(5,6,7,8)\n",
        "prod(L1)"
      ],
      "metadata": {
        "colab": {
          "base_uri": "https://localhost:8080/"
        },
        "id": "campZqxcV0sH",
        "outputId": "421ce054-e088-4e42-a877-e881042bfc91"
      },
      "execution_count": null,
      "outputs": [
        {
          "output_type": "execute_result",
          "data": {
            "text/plain": [
              "1680"
            ]
          },
          "metadata": {},
          "execution_count": 291
        }
      ]
    },
    {
      "cell_type": "code",
      "source": [],
      "metadata": {
        "id": "go00g3PgHR_5"
      },
      "execution_count": null,
      "outputs": []
    }
  ]
}