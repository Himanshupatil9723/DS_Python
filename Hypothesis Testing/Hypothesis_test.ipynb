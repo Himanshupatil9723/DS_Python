{
  "nbformat": 4,
  "nbformat_minor": 0,
  "metadata": {
    "colab": {
      "provenance": []
    },
    "kernelspec": {
      "name": "python3",
      "display_name": "Python 3"
    },
    "language_info": {
      "name": "python"
    }
  },
  "cells": [
    {
      "cell_type": "code",
      "execution_count": 1,
      "metadata": {
        "id": "0I3xMdS2GA1c"
      },
      "outputs": [],
      "source": [
        "import pandas as pd\n",
        "import numpy as np\n",
        "from scipy import stats\n",
        "import scipy"
      ]
    },
    {
      "cell_type": "markdown",
      "source": [
        "# ***One Tail Test***"
      ],
      "metadata": {
        "id": "iwe9Ip4WSUZf"
      }
    },
    {
      "cell_type": "markdown",
      "source": [
        "Example : - An outbreak of Salmonella-related illness was attributed to ice cream produced at a certain factory. Scientists measured the level of Salmonella in 9 randomly sampled batches of ice cream. The levels (in MPN/g)were 0.593,0.142,0.329,0.691,0.231,0.793,0.519,0.392,0.418.\n",
        "\n",
        "Is there evidence that the mean level of Salmonella in the ice cream is greater than 0.3 MPN/g"
      ],
      "metadata": {
        "id": "bW1KukfGQ5tm"
      }
    },
    {
      "cell_type": "code",
      "source": [
        "data = pd.Series([0.593,0.142,0.329,0.691,0.231,0.793,0.519,0.392,0.418])\n",
        "data"
      ],
      "metadata": {
        "colab": {
          "base_uri": "https://localhost:8080/"
        },
        "id": "fBKC9tSoPsuo",
        "outputId": "8f0c5a5b-f841-440f-efda-408d6f2c5cbc"
      },
      "execution_count": 2,
      "outputs": [
        {
          "output_type": "execute_result",
          "data": {
            "text/plain": [
              "0    0.593\n",
              "1    0.142\n",
              "2    0.329\n",
              "3    0.691\n",
              "4    0.231\n",
              "5    0.793\n",
              "6    0.519\n",
              "7    0.392\n",
              "8    0.418\n",
              "dtype: float64"
            ]
          },
          "metadata": {},
          "execution_count": 2
        }
      ]
    },
    {
      "cell_type": "code",
      "source": [
        "scipy.stats.ttest_1samp(data,0.3)\n",
        "# This will give us 2 tail P value"
      ],
      "metadata": {
        "colab": {
          "base_uri": "https://localhost:8080/"
        },
        "id": "wtS3LZl1Ski2",
        "outputId": "af51fc40-ff48-4dd4-9d60-8de0c2e8c291"
      },
      "execution_count": 3,
      "outputs": [
        {
          "output_type": "execute_result",
          "data": {
            "text/plain": [
              "TtestResult(statistic=2.2050588385131595, pvalue=0.05853032968489765, df=8)"
            ]
          },
          "metadata": {},
          "execution_count": 3
        }
      ]
    },
    {
      "cell_type": "code",
      "source": [
        "#We want 1 tail P value so we need to devide P value by 2\n",
        "\n",
        "s,p = scipy.stats.ttest_1samp(data,0.3)\n",
        "p_value = p/2\n",
        "p_value"
      ],
      "metadata": {
        "colab": {
          "base_uri": "https://localhost:8080/"
        },
        "id": "ziQ4Uv1RS9ut",
        "outputId": "9dfa0213-753a-4d22-d94c-dd12545dca59"
      },
      "execution_count": 4,
      "outputs": [
        {
          "output_type": "execute_result",
          "data": {
            "text/plain": [
              "0.029265164842448826"
            ]
          },
          "metadata": {},
          "execution_count": 4
        }
      ]
    },
    {
      "cell_type": "markdown",
      "source": [
        "Confidence level = 95 % so α = 0.05 & p = 0.029\n",
        " null hypothesis µ < 0.3\n",
        " alternate hypothesis µ> 0.3\n",
        "\n",
        "**α > P so we reject null hypothesis.**\n",
        "\n",
        "**We conclude that icecream factory is causing problem and because of this ice cream there is a  outbreak of Salmonella-related illness.**\n"
      ],
      "metadata": {
        "id": "2FQoIMqbTy1J"
      }
    },
    {
      "cell_type": "code",
      "source": [],
      "metadata": {
        "id": "gzGMlmssTUcQ"
      },
      "execution_count": 4,
      "outputs": []
    },
    {
      "cell_type": "markdown",
      "source": [
        "# ***Two Tail Test***"
      ],
      "metadata": {
        "id": "PNx7a5Am7BiE"
      }
    },
    {
      "cell_type": "markdown",
      "source": [
        "Example : Six subjects were given a drug (treatment group ) and additional six subjects a placebo (control group).Their reaction time to a stimulus was measured (in ms). We want to perform a two_sample t-test for comparing the means of the treatment and control groups.\n",
        "\n",
        "(1) Control:- 91,87,99,77,88,91\n",
        "\n",
        "(2) Treat :- 101,110,103,93,99,104\n"
      ],
      "metadata": {
        "id": "dwYfLJMi7TOo"
      }
    },
    {
      "cell_type": "code",
      "source": [
        "control = pd.Series([91,87,99,77,88,91])\n",
        "\n",
        "treat = pd.Series([101,110,103,93,99,104])"
      ],
      "metadata": {
        "id": "MD6p9TdycUCf"
      },
      "execution_count": 5,
      "outputs": []
    },
    {
      "cell_type": "code",
      "source": [
        "stats.ttest_ind(control,treat)"
      ],
      "metadata": {
        "colab": {
          "base_uri": "https://localhost:8080/"
        },
        "id": "ii-2_xVYcvPu",
        "outputId": "038ae728-16b3-4144-c62a-f7019edf8feb"
      },
      "execution_count": 6,
      "outputs": [
        {
          "output_type": "execute_result",
          "data": {
            "text/plain": [
              "Ttest_indResult(statistic=-3.4456126735364876, pvalue=0.006272124350809803)"
            ]
          },
          "metadata": {},
          "execution_count": 6
        }
      ]
    },
    {
      "cell_type": "markdown",
      "source": [
        "α = 0.005 & p = 0.0062\n",
        "\n",
        "p<α so reject null hypothesis.\n",
        "\n",
        "we conclude that there is difference between mean of sample1 and sample 2 and drug given to treatment group having actual effect of drug.\n"
      ],
      "metadata": {
        "id": "Oh5uw8OthDfI"
      }
    },
    {
      "cell_type": "code",
      "source": [],
      "metadata": {
        "id": "7ZROMsznc5_H"
      },
      "execution_count": 6,
      "outputs": []
    },
    {
      "cell_type": "markdown",
      "source": [
        "# ***2 Proportion Test***"
      ],
      "metadata": {
        "id": "hYUrjMDDjACy"
      }
    },
    {
      "cell_type": "markdown",
      "source": [
        " ***Usecase :-*** Is there a significant difference between the population propotions of state 1 and state 2 who report that they have been placed immediately after education ?\n",
        "\n",
        " **Populations :**All students who have completed graduation and post graduation in both states\n",
        "\n",
        " ***Parameter of Interest :   ***  p1 - p2, where p1 = state 1  & p2 = state 2\n",
        "\n",
        " ***Data :   ***  247 students from state 1. 36.8 % of students report that they have got the job.\n",
        "\n",
        " 308 students from state 2. 38.9% of students report that they have got the job.\n",
        "\n",
        "Hypothesis Defination:   \n",
        "\n",
        "Null Hypothesis :  p1-p2 =0\n",
        "\n",
        "Alternative Hypothesis :   p1-p2 ≠ 0\n"
      ],
      "metadata": {
        "id": "h9ETKeQTnIOk"
      }
    },
    {
      "cell_type": "code",
      "source": [
        "import numpy as np"
      ],
      "metadata": {
        "id": "Qth5Q9i4jF5u"
      },
      "execution_count": 7,
      "outputs": []
    },
    {
      "cell_type": "code",
      "source": [
        "#Data:\n",
        "\n",
        "n1 = 247\n",
        "p1 = .37\n",
        "\n",
        "n2 = 308\n",
        "p2 = .39"
      ],
      "metadata": {
        "id": "tGEXymP5jIOv"
      },
      "execution_count": 8,
      "outputs": []
    },
    {
      "cell_type": "code",
      "source": [
        "population1 = np.random.binomial(1, p1, n1)\n",
        "population2 = np.random.binomial(1, p2, n2)"
      ],
      "metadata": {
        "id": "b-QJ5dsDjOQV"
      },
      "execution_count": 9,
      "outputs": []
    },
    {
      "cell_type": "code",
      "source": [
        "population1"
      ],
      "metadata": {
        "colab": {
          "base_uri": "https://localhost:8080/"
        },
        "id": "Rp8DAxXTjO8f",
        "outputId": "b0bca8c6-4e21-4259-d3fe-b239c5e426de"
      },
      "execution_count": 10,
      "outputs": [
        {
          "output_type": "execute_result",
          "data": {
            "text/plain": [
              "array([0, 1, 1, 0, 1, 0, 1, 1, 1, 1, 0, 0, 0, 0, 0, 0, 0, 1, 0, 0, 0, 1,\n",
              "       1, 0, 0, 1, 0, 0, 0, 1, 1, 1, 0, 1, 1, 1, 0, 0, 0, 0, 1, 0, 1, 0,\n",
              "       0, 0, 1, 0, 0, 0, 0, 1, 0, 0, 0, 1, 0, 1, 0, 0, 0, 0, 0, 1, 0, 0,\n",
              "       1, 1, 0, 1, 0, 0, 1, 1, 1, 0, 0, 0, 0, 0, 0, 0, 0, 0, 0, 1, 0, 1,\n",
              "       0, 0, 1, 0, 1, 0, 0, 0, 0, 0, 0, 0, 0, 0, 0, 1, 0, 0, 1, 1, 1, 1,\n",
              "       0, 0, 0, 1, 0, 0, 1, 1, 1, 1, 0, 1, 1, 1, 0, 1, 0, 1, 0, 1, 0, 1,\n",
              "       0, 0, 1, 0, 0, 1, 0, 1, 0, 0, 0, 1, 0, 1, 1, 0, 0, 0, 0, 1, 1, 0,\n",
              "       0, 0, 0, 0, 0, 0, 0, 1, 1, 0, 0, 0, 0, 1, 0, 0, 1, 1, 0, 1, 1, 0,\n",
              "       0, 1, 1, 0, 1, 0, 1, 0, 1, 0, 0, 1, 1, 0, 1, 1, 1, 0, 0, 0, 1, 0,\n",
              "       1, 0, 1, 0, 0, 0, 0, 1, 0, 0, 1, 0, 1, 1, 0, 1, 0, 1, 0, 0, 0, 1,\n",
              "       1, 0, 0, 0, 0, 0, 0, 0, 0, 0, 0, 0, 1, 0, 1, 0, 1, 0, 1, 0, 1, 0,\n",
              "       0, 1, 1, 1, 0])"
            ]
          },
          "metadata": {},
          "execution_count": 10
        }
      ]
    },
    {
      "cell_type": "code",
      "source": [
        "len(population1)"
      ],
      "metadata": {
        "colab": {
          "base_uri": "https://localhost:8080/"
        },
        "id": "ilfM4_y6jT90",
        "outputId": "f00e5b8a-4ee2-4093-91a1-5e76931e5efe"
      },
      "execution_count": 11,
      "outputs": [
        {
          "output_type": "execute_result",
          "data": {
            "text/plain": [
              "247"
            ]
          },
          "metadata": {},
          "execution_count": 11
        }
      ]
    },
    {
      "cell_type": "code",
      "source": [
        "population2"
      ],
      "metadata": {
        "colab": {
          "base_uri": "https://localhost:8080/"
        },
        "id": "qTa8Pn34jUcw",
        "outputId": "0b926978-aec0-47bd-ebae-a9400775ea44"
      },
      "execution_count": 12,
      "outputs": [
        {
          "output_type": "execute_result",
          "data": {
            "text/plain": [
              "array([1, 1, 1, 0, 0, 0, 1, 0, 1, 1, 1, 1, 1, 0, 1, 1, 1, 0, 0, 0, 0, 0,\n",
              "       1, 0, 1, 0, 0, 1, 0, 0, 1, 0, 0, 0, 0, 0, 0, 0, 0, 0, 1, 1, 0, 1,\n",
              "       0, 1, 1, 0, 1, 1, 1, 0, 0, 1, 0, 1, 1, 0, 1, 0, 0, 0, 1, 0, 1, 0,\n",
              "       1, 0, 1, 0, 1, 0, 0, 1, 1, 1, 0, 1, 0, 1, 0, 0, 0, 0, 0, 1, 0, 1,\n",
              "       0, 0, 0, 1, 1, 0, 1, 0, 0, 0, 0, 0, 0, 1, 1, 0, 1, 1, 1, 0, 0, 0,\n",
              "       1, 1, 0, 0, 0, 1, 0, 0, 0, 0, 0, 1, 1, 0, 0, 0, 1, 1, 0, 0, 0, 1,\n",
              "       0, 1, 0, 0, 0, 0, 1, 0, 1, 1, 0, 1, 0, 1, 1, 0, 1, 0, 0, 0, 0, 0,\n",
              "       0, 0, 0, 0, 0, 0, 1, 0, 0, 0, 1, 1, 1, 1, 1, 0, 0, 1, 0, 1, 1, 0,\n",
              "       1, 0, 1, 0, 0, 0, 0, 0, 0, 0, 0, 0, 1, 0, 1, 0, 0, 0, 1, 0, 0, 1,\n",
              "       0, 0, 1, 1, 1, 1, 0, 0, 0, 0, 0, 0, 0, 0, 0, 0, 0, 0, 0, 1, 0, 0,\n",
              "       0, 0, 1, 0, 1, 1, 1, 1, 0, 0, 1, 0, 1, 1, 0, 1, 0, 0, 0, 0, 0, 1,\n",
              "       1, 0, 0, 1, 0, 0, 0, 1, 1, 1, 1, 1, 0, 1, 1, 1, 0, 0, 0, 0, 1, 0,\n",
              "       0, 0, 0, 0, 1, 0, 0, 1, 0, 1, 0, 0, 0, 1, 0, 1, 1, 0, 0, 0, 0, 1,\n",
              "       0, 0, 0, 1, 0, 1, 0, 1, 1, 0, 0, 1, 1, 0, 1, 0, 0, 1, 1, 0, 0, 1])"
            ]
          },
          "metadata": {},
          "execution_count": 12
        }
      ]
    },
    {
      "cell_type": "code",
      "source": [
        "population1.mean()"
      ],
      "metadata": {
        "colab": {
          "base_uri": "https://localhost:8080/"
        },
        "id": "utKefY4hkfjD",
        "outputId": "657990da-adc6-49c7-d4b5-42e23a591cf0"
      },
      "execution_count": 13,
      "outputs": [
        {
          "output_type": "execute_result",
          "data": {
            "text/plain": [
              "0.38461538461538464"
            ]
          },
          "metadata": {},
          "execution_count": 13
        }
      ]
    },
    {
      "cell_type": "code",
      "source": [
        "population2.mean()"
      ],
      "metadata": {
        "colab": {
          "base_uri": "https://localhost:8080/"
        },
        "id": "IC2PxRk8kfWK",
        "outputId": "a5d326f1-7de9-405d-db25-06047fb7f811"
      },
      "execution_count": 14,
      "outputs": [
        {
          "output_type": "execute_result",
          "data": {
            "text/plain": [
              "0.3961038961038961"
            ]
          },
          "metadata": {},
          "execution_count": 14
        }
      ]
    },
    {
      "cell_type": "code",
      "source": [
        "import statsmodels.api as sm\n",
        "sm.stats.ttest_ind(population1, population2)"
      ],
      "metadata": {
        "colab": {
          "base_uri": "https://localhost:8080/"
        },
        "id": "gSuSrLevjcnw",
        "outputId": "a6980856-18ec-4437-be17-8ec4b2727524"
      },
      "execution_count": 15,
      "outputs": [
        {
          "output_type": "execute_result",
          "data": {
            "text/plain": [
              "(-0.27516403893146046, 0.783292991260126, 553.0)"
            ]
          },
          "metadata": {},
          "execution_count": 15
        }
      ]
    },
    {
      "cell_type": "markdown",
      "source": [
        "p = 0.783   and α = 0.05\n",
        "\n",
        "p > α so fail to reject null hypothesis\n",
        "\n"
      ],
      "metadata": {
        "id": "o47lwcthmU_a"
      }
    }
  ]
}